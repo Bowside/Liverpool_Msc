{
    "metadata": {
        "kernelspec": {
            "name": "python3",
            "display_name": "Python 3",
            "language": "python"
        },
        "language_info": {
            "name": "python",
            "version": "3.11.9",
            "mimetype": "text/x-python",
            "codemirror_mode": {
                "name": "ipython",
                "version": 3
            },
            "pygments_lexer": "ipython3",
            "nbconvert_exporter": "python",
            "file_extension": ".py"
        }
    },
    "nbformat_minor": 2,
    "nbformat": 4,
    "cells": [
        {
            "cell_type": "markdown",
            "source": [
                "# Imports\n",
                "\n",
                "- Imports\n",
                "    - pip install pandas\n",
                "    - pip install seaborn\n",
                "    - pip install matplotlib\n",
                "- Set n\\_jobd parameter where possible to help speed up the run"
            ],
            "metadata": {
                "language": "python",
                "azdata_cell_guid": "71ec6720-7e05-4b8b-b2e6-25a50cf573ca"
            },
            "attachments": {}
        },
        {
            "cell_type": "code",
            "source": [
                "# General imports\r\n",
                "import os\r\n",
                "import re\r\n",
                "import string\r\n",
                "\r\n",
                "# Dataframe processing imports\r\n",
                "import pandas\r\n",
                "import numpy\r\n",
                "\r\n",
                "# Data Visualisation imports\r\n",
                "import seaborn\r\n",
                "import matplotlib.pyplot as pyplot\r\n",
                "\r\n",
                "# NLP related stuffs\r\n",
                "import nltk\r\n",
                "from nltk.tokenize import sent_tokenize, word_tokenize\r\n",
                "from nltk.corpus import stopwords\r\n",
                "from nltk.corpus import wordnet\r\n",
                "from collections import Counter\r\n",
                "from nltk.stem import WordNetLemmatizer\r\n",
                "from nltk.stem import SnowballStemmer\r\n",
                "\r\n",
                "# Download NLTK stopwords\r\n",
                "nltk.download('stopwords')\r\n",
                "stop_words = set(stopwords.words('english'))\r\n",
                "nltk.download(\"wordnet\")\r\n",
                "wordnet_words = set(wordnet.words())\r\n",
                "\r\n",
                "# Machine Learning imports\r\n",
                "from sklearn.feature_extraction.text import TfidfVectorizer, HashingVectorizer, CountVectorizer\r\n",
                "from sklearn.model_selection import train_test_split\r\n",
                "from sklearn.linear_model import LogisticRegression\r\n",
                "from sklearn.ensemble import RandomForestClassifier\r\n",
                "from sklearn.neighbors import KNeighborsClassifier\r\n",
                "from sklearn.metrics import classification_report, confusion_matrix, log_loss, accuracy_score, f1_score, precision_score, recall_score, roc_auc_score\r\n",
                ""
            ],
            "metadata": {
                "azdata_cell_guid": "10877984-42cb-4412-bd6c-34517e17c2f8",
                "language": "python",
                "tags": []
            },
            "outputs": [
                {
                    "name": "stderr",
                    "text": "[nltk_data] Downloading package stopwords to\n[nltk_data]     C:\\Users\\dillo\\AppData\\Roaming\\nltk_data...\n[nltk_data]   Package stopwords is already up-to-date!\n[nltk_data] Downloading package wordnet to\n[nltk_data]     C:\\Users\\dillo\\AppData\\Roaming\\nltk_data...\n[nltk_data]   Package wordnet is already up-to-date!\n",
                    "output_type": "stream"
                }
            ],
            "execution_count": 49
        },
        {
            "cell_type": "markdown",
            "source": [
                "## Experiment configuration\n",
                "\n",
                "- Set Scikit learn parralelsm\n",
                "- Set folder to save charts"
            ],
            "metadata": {
                "language": "python",
                "azdata_cell_guid": "f57b0694-d646-417e-9fc3-de832f359052"
            },
            "attachments": {}
        },
        {
            "cell_type": "code",
            "source": [
                "# set number of jobs\r\n",
                "# ideally use aout 80% of available CPUs\r\n",
                "model_n_jobs = 8"
            ],
            "metadata": {
                "language": "python",
                "azdata_cell_guid": "2a5749ae-61eb-4a40-90a3-3fecab1859b3"
            },
            "outputs": [],
            "execution_count": 50
        },
        {
            "cell_type": "code",
            "source": [
                "# Folder to store the visuals\r\n",
                "if not os.path.exists('charts'):\r\n",
                "    os.makedirs('charts')"
            ],
            "metadata": {
                "language": "python",
                "azdata_cell_guid": "ed7745aa-239d-4162-8c92-270cba63cb45"
            },
            "outputs": [],
            "execution_count": 51
        },
        {
            "cell_type": "markdown",
            "source": [
                "# Dataset Creation\n",
                "\n",
                "## Data Ingestion\n",
                "\n",
                "1. Load the data into a data frame"
            ],
            "metadata": {
                "azdata_cell_guid": "d50cac37-837e-4434-8a29-c65727e3b126"
            },
            "attachments": {}
        },
        {
            "cell_type": "code",
            "source": [
                "swearjar_train_df = pandas.read_csv('source/train.csv')\r\n",
                "swearjar_test_df = pandas.read_csv('source/test.csv')\r\n",
                "swearjar_sample_submission_df = pandas.read_csv('source/sample_submission.csv')\r\n",
                "\r\n",
                "# check the shape and first few rows of the dataframe\r\n",
                "print(swearjar_train_df.shape)\r\n",
                "swearjar_train_df.head()"
            ],
            "metadata": {
                "azdata_cell_guid": "31f5c4b0-8418-466b-adbe-50532e7853f6",
                "language": "python"
            },
            "outputs": [
                {
                    "name": "stdout",
                    "text": "(159571, 8)\n",
                    "output_type": "stream"
                },
                {
                    "data": {
                        "text/plain": "                 id                                       comment_text  toxic  \\\n0  0000997932d777bf  Explanation\\nWhy the edits made under my usern...      0   \n1  000103f0d9cfb60f  D'aww! He matches this background colour I'm s...      0   \n2  000113f07ec002fd  Hey man, I'm really not trying to edit war. It...      0   \n3  0001b41b1c6bb37e  \"\\nMore\\nI can't make any real suggestions on ...      0   \n4  0001d958c54c6e35  You, sir, are my hero. Any chance you remember...      0   \n\n   severe_toxic  obscene  threat  insult  identity_hate  \n0             0        0       0       0              0  \n1             0        0       0       0              0  \n2             0        0       0       0              0  \n3             0        0       0       0              0  \n4             0        0       0       0              0  ",
                        "text/html": "<div>\n<style scoped>\n    .dataframe tbody tr th:only-of-type {\n        vertical-align: middle;\n    }\n\n    .dataframe tbody tr th {\n        vertical-align: top;\n    }\n\n    .dataframe thead th {\n        text-align: right;\n    }\n</style>\n<table border=\"1\" class=\"dataframe\">\n  <thead>\n    <tr style=\"text-align: right;\">\n      <th></th>\n      <th>id</th>\n      <th>comment_text</th>\n      <th>toxic</th>\n      <th>severe_toxic</th>\n      <th>obscene</th>\n      <th>threat</th>\n      <th>insult</th>\n      <th>identity_hate</th>\n    </tr>\n  </thead>\n  <tbody>\n    <tr>\n      <th>0</th>\n      <td>0000997932d777bf</td>\n      <td>Explanation\\nWhy the edits made under my usern...</td>\n      <td>0</td>\n      <td>0</td>\n      <td>0</td>\n      <td>0</td>\n      <td>0</td>\n      <td>0</td>\n    </tr>\n    <tr>\n      <th>1</th>\n      <td>000103f0d9cfb60f</td>\n      <td>D'aww! He matches this background colour I'm s...</td>\n      <td>0</td>\n      <td>0</td>\n      <td>0</td>\n      <td>0</td>\n      <td>0</td>\n      <td>0</td>\n    </tr>\n    <tr>\n      <th>2</th>\n      <td>000113f07ec002fd</td>\n      <td>Hey man, I'm really not trying to edit war. It...</td>\n      <td>0</td>\n      <td>0</td>\n      <td>0</td>\n      <td>0</td>\n      <td>0</td>\n      <td>0</td>\n    </tr>\n    <tr>\n      <th>3</th>\n      <td>0001b41b1c6bb37e</td>\n      <td>\"\\nMore\\nI can't make any real suggestions on ...</td>\n      <td>0</td>\n      <td>0</td>\n      <td>0</td>\n      <td>0</td>\n      <td>0</td>\n      <td>0</td>\n    </tr>\n    <tr>\n      <th>4</th>\n      <td>0001d958c54c6e35</td>\n      <td>You, sir, are my hero. Any chance you remember...</td>\n      <td>0</td>\n      <td>0</td>\n      <td>0</td>\n      <td>0</td>\n      <td>0</td>\n      <td>0</td>\n    </tr>\n  </tbody>\n</table>\n</div>"
                    },
                    "metadata": {},
                    "execution_count": 52,
                    "output_type": "execute_result"
                }
            ],
            "execution_count": 52
        },
        {
            "cell_type": "markdown",
            "source": [
                "## Quick Data Validation\n",
                "\n",
                "- Dataset overview\n",
                "- Descriptive statistices\n",
                "- Check number of sentences and tokens per class\n",
                "- Display most common words for each class\n",
                "    - Stop words removed\n",
                "    - Words must not be alphanumeric"
            ],
            "metadata": {
                "language": "python",
                "azdata_cell_guid": "30e7f0bf-f2a3-497d-9ac2-0b87ae193304"
            },
            "attachments": {}
        },
        {
            "cell_type": "code",
            "source": [
                "swearjar_train_df.info()"
            ],
            "metadata": {
                "language": "python",
                "azdata_cell_guid": "bccb5a47-0180-4c34-8f03-b70099158f57"
            },
            "outputs": [
                {
                    "name": "stdout",
                    "text": "<class 'pandas.core.frame.DataFrame'>\nRangeIndex: 159571 entries, 0 to 159570\nData columns (total 8 columns):\n #   Column         Non-Null Count   Dtype \n---  ------         --------------   ----- \n 0   id             159571 non-null  object\n 1   comment_text   159571 non-null  object\n 2   toxic          159571 non-null  int64 \n 3   severe_toxic   159571 non-null  int64 \n 4   obscene        159571 non-null  int64 \n 5   threat         159571 non-null  int64 \n 6   insult         159571 non-null  int64 \n 7   identity_hate  159571 non-null  int64 \ndtypes: int64(6), object(2)\nmemory usage: 9.7+ MB\n",
                    "output_type": "stream"
                }
            ],
            "execution_count": 53
        },
        {
            "cell_type": "code",
            "source": [
                "swearjar_train_df.describe()"
            ],
            "metadata": {
                "language": "python",
                "azdata_cell_guid": "73024cb3-26ec-48b2-985a-ed70f86e431c",
                "tags": []
            },
            "outputs": [
                {
                    "data": {
                        "text/plain": "               toxic   severe_toxic        obscene         threat  \\\ncount  159571.000000  159571.000000  159571.000000  159571.000000   \nmean        0.095844       0.009996       0.052948       0.002996   \nstd         0.294379       0.099477       0.223931       0.054650   \nmin         0.000000       0.000000       0.000000       0.000000   \n25%         0.000000       0.000000       0.000000       0.000000   \n50%         0.000000       0.000000       0.000000       0.000000   \n75%         0.000000       0.000000       0.000000       0.000000   \nmax         1.000000       1.000000       1.000000       1.000000   \n\n              insult  identity_hate  \ncount  159571.000000  159571.000000  \nmean        0.049364       0.008805  \nstd         0.216627       0.093420  \nmin         0.000000       0.000000  \n25%         0.000000       0.000000  \n50%         0.000000       0.000000  \n75%         0.000000       0.000000  \nmax         1.000000       1.000000  ",
                        "text/html": "<div>\n<style scoped>\n    .dataframe tbody tr th:only-of-type {\n        vertical-align: middle;\n    }\n\n    .dataframe tbody tr th {\n        vertical-align: top;\n    }\n\n    .dataframe thead th {\n        text-align: right;\n    }\n</style>\n<table border=\"1\" class=\"dataframe\">\n  <thead>\n    <tr style=\"text-align: right;\">\n      <th></th>\n      <th>toxic</th>\n      <th>severe_toxic</th>\n      <th>obscene</th>\n      <th>threat</th>\n      <th>insult</th>\n      <th>identity_hate</th>\n    </tr>\n  </thead>\n  <tbody>\n    <tr>\n      <th>count</th>\n      <td>159571.000000</td>\n      <td>159571.000000</td>\n      <td>159571.000000</td>\n      <td>159571.000000</td>\n      <td>159571.000000</td>\n      <td>159571.000000</td>\n    </tr>\n    <tr>\n      <th>mean</th>\n      <td>0.095844</td>\n      <td>0.009996</td>\n      <td>0.052948</td>\n      <td>0.002996</td>\n      <td>0.049364</td>\n      <td>0.008805</td>\n    </tr>\n    <tr>\n      <th>std</th>\n      <td>0.294379</td>\n      <td>0.099477</td>\n      <td>0.223931</td>\n      <td>0.054650</td>\n      <td>0.216627</td>\n      <td>0.093420</td>\n    </tr>\n    <tr>\n      <th>min</th>\n      <td>0.000000</td>\n      <td>0.000000</td>\n      <td>0.000000</td>\n      <td>0.000000</td>\n      <td>0.000000</td>\n      <td>0.000000</td>\n    </tr>\n    <tr>\n      <th>25%</th>\n      <td>0.000000</td>\n      <td>0.000000</td>\n      <td>0.000000</td>\n      <td>0.000000</td>\n      <td>0.000000</td>\n      <td>0.000000</td>\n    </tr>\n    <tr>\n      <th>50%</th>\n      <td>0.000000</td>\n      <td>0.000000</td>\n      <td>0.000000</td>\n      <td>0.000000</td>\n      <td>0.000000</td>\n      <td>0.000000</td>\n    </tr>\n    <tr>\n      <th>75%</th>\n      <td>0.000000</td>\n      <td>0.000000</td>\n      <td>0.000000</td>\n      <td>0.000000</td>\n      <td>0.000000</td>\n      <td>0.000000</td>\n    </tr>\n    <tr>\n      <th>max</th>\n      <td>1.000000</td>\n      <td>1.000000</td>\n      <td>1.000000</td>\n      <td>1.000000</td>\n      <td>1.000000</td>\n      <td>1.000000</td>\n    </tr>\n  </tbody>\n</table>\n</div>"
                    },
                    "metadata": {},
                    "execution_count": 54,
                    "output_type": "execute_result"
                }
            ],
            "execution_count": 54
        },
        {
            "cell_type": "code",
            "source": [
                "#Check number of sentences and tokens per class\r\n",
                "# Define a function to count sentences and tokens\r\n",
                "def count_sentences_tokens(text):\r\n",
                "    sentences = sent_tokenize(text)\r\n",
                "    tokens = word_tokenize(text)\r\n",
                "    return len(sentences), len(tokens)\r\n",
                "\r\n",
                "# Create a new DataFrame to store the results\r\n",
                "class_sentences_tokens_df = pandas.DataFrame(columns=['Class', 'Sentence Count', 'Token Count'])\r\n",
                "\r\n",
                "# Create a list to store DataFrames\r\n",
                "dfs = []\r\n",
                "\r\n",
                "for label in swearjar_train_df.columns[2:]:\r\n",
                "    class_data = swearjar_train_df[swearjar_train_df[label] == 1]\r\n",
                "    total_sentences = 0\r\n",
                "    total_tokens = 0\r\n",
                "    for _, row in class_data.iterrows():\r\n",
                "        sentences, tokens = count_sentences_tokens(row['comment_text'])\r\n",
                "        total_sentences += sentences\r\n",
                "        total_tokens += tokens\r\n",
                "    \r\n",
                "    # Create a temporary DataFrame for the current class\r\n",
                "    temp_df = pandas.DataFrame({'Class': label, 'Sentence Count': total_sentences, 'Token Count': total_tokens}, index=[0])\r\n",
                "    \r\n",
                "    # Append the temporary DataFrame to the list\r\n",
                "    dfs.append(temp_df)\r\n",
                "\r\n",
                "# Concatenate all DataFrames in the list\r\n",
                "class_sentences_tokens_df = pandas.concat(dfs, ignore_index=True)\r\n",
                "\r\n",
                "print(class_sentences_tokens_df)"
            ],
            "metadata": {
                "language": "python",
                "azdata_cell_guid": "b1216df6-a3c6-4cef-9779-be320ba5e71a"
            },
            "outputs": [
                {
                    "name": "stdout",
                    "text": "           Class  Sentence Count  Token Count\n0          toxic           65681       966200\n1   severe_toxic           12023       161132\n2        obscene           36956       514203\n3         threat            2969        38651\n4         insult           33357       467734\n5  identity_hate            5409        85984\n",
                    "output_type": "stream"
                }
            ],
            "execution_count": 55
        },
        {
            "cell_type": "markdown",
            "source": [
                "## Text Preprocessing\n",
                "\n",
                "- Clean the text, remove punctuation, clean up words, remove incorrect spaces\n",
                "- Stop word removal - NLTK\n",
                "- Stemming - Snowball Stemmer\n",
                "\n",
                "This needs to be done to both the train and test set"
            ],
            "metadata": {
                "azdata_cell_guid": "a02df83b-8490-4204-9110-fcbb4d5402fc"
            },
            "attachments": {}
        },
        {
            "cell_type": "code",
            "source": [
                "# Initialize lemmatizer\r\n",
                "stemmer = SnowballStemmer(\"english\")\r\n",
                "\r\n",
                "# Function to Preprocesses the text\r\n",
                "def preprocess_text(text):\r\n",
                " \r\n",
                "    # make everything lowercase\r\n",
                "    text = text.lower()\r\n",
                "    # cleanup swear words\r\n",
                "    text = re.sub(r'fck', 'fuck', text)\r\n",
                "    text = re.sub(r'f\\W\\Wk', 'fuck', text)\r\n",
                "    text = re.sub(r'sh\\Wt', 'shit', text)\r\n",
                "    text = re.sub(r'd\\Wck', 'dick', text)\r\n",
                "\r\n",
                "    # get rid of junk\r\n",
                "    # To avoid removal of spaces all removals are replaced with a space, the final regex step will clean this up\r\n",
                "    text = re.sub('\\[.*?\\]', ' ', text)\r\n",
                "    text = re.sub('https?://\\S+|www\\.\\S+', ' ', text)\r\n",
                "    text = re.sub('<.*?>+', ' ', text)\r\n",
                "    text = re.sub('[%s]' % re.escape(string.punctuation), ' ', text)\r\n",
                "    text = re.sub('\\n', ' ', text)\r\n",
                "    text = re.sub('\\w*\\d\\w*', ' ', text)\r\n",
                "    # get rid of spaces\r\n",
                "    text = re.sub('\\s+', ' ', text) # double spaces\r\n",
                "    text = re.sub('^[\\s]+', '', text) # leading space\r\n",
                "    \r\n",
                "    # Tokenize comment_text\r\n",
                "    words = nltk.word_tokenize(text)\r\n",
                "\r\n",
                "    # Stem words, and stop word removal\r\n",
                "    words = [stemmer.stem(word) for word in words if word not in stop_words]\r\n",
                "\r\n",
                "    return ' '.join(words)\r\n",
                "\r\n",
                "# Fill empty and NaNs values with 'unknown' in comment_text\r\n",
                "swearjar_train_df['comment_text'] = swearjar_train_df['comment_text'].fillna(\"unknown\")\r\n",
                "# Apply processing to test set\r\n",
                "swearjar_test_df['comment_text'] = swearjar_test_df['comment_text'].fillna(\"unknown\")\r\n",
                "\r\n",
                "# Apply preprocessing to comment_text\r\n",
                "swearjar_train_df['comment_text_processed'] = swearjar_train_df['comment_text'].apply(preprocess_text)\r\n",
                "# Apply processing to test set\r\n",
                "swearjar_test_df['comment_text_processed'] = swearjar_test_df['comment_text'].apply(preprocess_text)\r\n",
                "\r\n",
                "\r\n",
                "# Drop comment_text to save memory\r\n",
                "swearjar_train_df = swearjar_train_df.drop('comment_text', axis=1)\r\n",
                "# Apply processing to test set\r\n",
                "swearjar_test_df = swearjar_test_df.drop('comment_text', axis=1)\r\n",
                "\r\n",
                "swearjar_train_df.head()"
            ],
            "metadata": {
                "azdata_cell_guid": "88780529-e8ac-4b72-ba1d-393170f68ed2",
                "language": "python"
            },
            "outputs": [
                {
                    "data": {
                        "text/plain": "                 id  toxic  severe_toxic  obscene  threat  insult  \\\n0  0000997932d777bf      0             0        0       0       0   \n1  000103f0d9cfb60f      0             0        0       0       0   \n2  000113f07ec002fd      0             0        0       0       0   \n3  0001b41b1c6bb37e      0             0        0       0       0   \n4  0001d958c54c6e35      0             0        0       0       0   \n\n   identity_hate                             comment_text_processed  \n0              0  explan edit made usernam hardcor metallica fan...  \n1              0  aww match background colour seem stuck thank t...  \n2              0  hey man realli tri edit war guy constant remov...  \n3              0  make real suggest improv wonder section statis...  \n4              0                         sir hero chanc rememb page  ",
                        "text/html": "<div>\n<style scoped>\n    .dataframe tbody tr th:only-of-type {\n        vertical-align: middle;\n    }\n\n    .dataframe tbody tr th {\n        vertical-align: top;\n    }\n\n    .dataframe thead th {\n        text-align: right;\n    }\n</style>\n<table border=\"1\" class=\"dataframe\">\n  <thead>\n    <tr style=\"text-align: right;\">\n      <th></th>\n      <th>id</th>\n      <th>toxic</th>\n      <th>severe_toxic</th>\n      <th>obscene</th>\n      <th>threat</th>\n      <th>insult</th>\n      <th>identity_hate</th>\n      <th>comment_text_processed</th>\n    </tr>\n  </thead>\n  <tbody>\n    <tr>\n      <th>0</th>\n      <td>0000997932d777bf</td>\n      <td>0</td>\n      <td>0</td>\n      <td>0</td>\n      <td>0</td>\n      <td>0</td>\n      <td>0</td>\n      <td>explan edit made usernam hardcor metallica fan...</td>\n    </tr>\n    <tr>\n      <th>1</th>\n      <td>000103f0d9cfb60f</td>\n      <td>0</td>\n      <td>0</td>\n      <td>0</td>\n      <td>0</td>\n      <td>0</td>\n      <td>0</td>\n      <td>aww match background colour seem stuck thank t...</td>\n    </tr>\n    <tr>\n      <th>2</th>\n      <td>000113f07ec002fd</td>\n      <td>0</td>\n      <td>0</td>\n      <td>0</td>\n      <td>0</td>\n      <td>0</td>\n      <td>0</td>\n      <td>hey man realli tri edit war guy constant remov...</td>\n    </tr>\n    <tr>\n      <th>3</th>\n      <td>0001b41b1c6bb37e</td>\n      <td>0</td>\n      <td>0</td>\n      <td>0</td>\n      <td>0</td>\n      <td>0</td>\n      <td>0</td>\n      <td>make real suggest improv wonder section statis...</td>\n    </tr>\n    <tr>\n      <th>4</th>\n      <td>0001d958c54c6e35</td>\n      <td>0</td>\n      <td>0</td>\n      <td>0</td>\n      <td>0</td>\n      <td>0</td>\n      <td>0</td>\n      <td>sir hero chanc rememb page</td>\n    </tr>\n  </tbody>\n</table>\n</div>"
                    },
                    "metadata": {},
                    "execution_count": 56,
                    "output_type": "execute_result"
                }
            ],
            "execution_count": 56
        },
        {
            "cell_type": "code",
            "source": [
                "# Create a new DataFrame to store word frequency counts\r\n",
                "word_freq_df = pandas.DataFrame(columns=['Class', 'Word', 'Frequency'])\r\n",
                "\r\n",
                "# Create a list to store DataFrames\r\n",
                "dfs = []\r\n",
                "\r\n",
                "for label in swearjar_train_df.columns[1:7]:\r\n",
                "    class_data = swearjar_train_df[swearjar_train_df[label] == 1]\r\n",
                "    \r\n",
                "    all_words = []\r\n",
                "    for _, row in class_data.iterrows():\r\n",
                "        words = row['comment_text_processed'].split()\r\n",
                "        all_words.extend(words)\r\n",
                "    \r\n",
                "    word_counts = Counter(all_words)\r\n",
                "    \r\n",
                "    # Create a temporary DataFrame for the current class\r\n",
                "    temp_df = pandas.DataFrame({'Class': label, 'Word': list(word_counts.keys()), 'Frequency': list(word_counts.values())})\r\n",
                "    \r\n",
                "    # Append the temporary DataFrame to the list\r\n",
                "    dfs.append(temp_df)\r\n",
                "\r\n",
                "# Concatenate all DataFrames in the list\r\n",
                "word_freq_df = pandas.concat(dfs, ignore_index=True)\r\n",
                "\r\n",
                "# Sort the DataFrame by frequency for each class\r\n",
                "word_freq_df.sort_values(by=['Class', 'Frequency'], ascending=False, inplace=True)\r\n",
                "\r\n",
                "# Create a bar plot for each class\r\n",
                "for label in swearjar_train_df.columns[1:7]:\r\n",
                "\r\n",
                "    # Set figure size and font size\r\n",
                "    pyplot.figure(figsize=(12, 6))\r\n",
                "    seaborn.set(font_scale=0.8)\r\n",
                "    seaborn.set_palette(\"flare\")\r\n",
                "\r\n",
                "    # Filter the DataFrame for the current class\r\n",
                "    class_data = word_freq_df[word_freq_df['Class'] == label]\r\n",
                "    seaborn.barplot(x='Frequency', y='Word', data=class_data.head(10))\r\n",
                "\r\n",
                "    # Set the title, x-axis label, and y-axis label\r\n",
                "    pyplot.title(f'Most Frequent Words for {label} Class')\r\n",
                "    pyplot.xlabel('Frequency')\r\n",
                "    pyplot.ylabel('Dirty Word')\r\n",
                "\r\n",
                "    # Remove unnecessary spines and grid lines\r\n",
                "    seaborn.despine()\r\n",
                "\r\n",
                "    # Save the plot\r\n",
                "    pyplot.savefig(f'charts/word_fequency_{label}_class_barchart.png')"
            ],
            "metadata": {
                "language": "python",
                "azdata_cell_guid": "8a54d354-42ba-4712-89db-93f89d566b44"
            },
            "outputs": [
                {
                    "data": {
                        "text/plain": "<Figure size 864x432 with 1 Axes>",
                        "image/png": "[encoded data removed]"
                    },
                    "metadata": {},
                    "output_type": "display_data"
                },
                {
                    "data": {
                        "text/plain": "<Figure size 864x432 with 1 Axes>",
                        "image/png": "[encoded data removed]"
                    },
                    "metadata": {},
                    "output_type": "display_data"
                },
                {
                    "data": {
                        "text/plain": "<Figure size 864x432 with 1 Axes>",
                        "image/png": "[encoded data removed]"
                    },
                    "metadata": {},
                    "output_type": "display_data"
                },
                {
                    "data": {
                        "text/plain": "<Figure size 864x432 with 1 Axes>",
                        "image/png": "[encoded data removed]"
                    },
                    "metadata": {},
                    "output_type": "display_data"
                },
                {
                    "data": {
                        "text/plain": "<Figure size 864x432 with 1 Axes>",
                        "image/png": "[encoded data removed]"
                    },
                    "metadata": {},
                    "output_type": "display_data"
                },
                {
                    "data": {
                        "text/plain": "<Figure size 864x432 with 1 Axes>",
                        "image/png": "[encoded data removed]"
                    },
                    "metadata": {},
                    "output_type": "display_data"
                }
            ],
            "execution_count": 57
        },
        {
            "cell_type": "markdown",
            "source": [
                "# Feature Engineering\n",
                "\n",
                "## Classify the data into features and targets\n",
                "\n",
                "- Label the data\n",
                "    \n",
                "    - we will also create a none label"
            ],
            "metadata": {
                "azdata_cell_guid": "1477ed1e-ac44-4729-98d7-a9ce0bad56c1"
            },
            "attachments": {}
        },
        {
            "cell_type": "code",
            "source": [
                "# Labels\r\n",
                "HateLabels = ['toxic', 'severe_toxic', 'obscene', 'threat', 'insult', 'identity_hate']\r\n",
                "swearjar_train_df['none'] = 1 - swearjar_train_df[HateLabels].max(axis=1)\r\n",
                "swearjar_train_df.describe()"
            ],
            "metadata": {
                "azdata_cell_guid": "f67c4301-60e8-4e7c-9af6-ee05c653144e",
                "language": "python",
                "tags": []
            },
            "outputs": [
                {
                    "data": {
                        "text/plain": "               toxic   severe_toxic        obscene         threat  \\\ncount  159571.000000  159571.000000  159571.000000  159571.000000   \nmean        0.095844       0.009996       0.052948       0.002996   \nstd         0.294379       0.099477       0.223931       0.054650   \nmin         0.000000       0.000000       0.000000       0.000000   \n25%         0.000000       0.000000       0.000000       0.000000   \n50%         0.000000       0.000000       0.000000       0.000000   \n75%         0.000000       0.000000       0.000000       0.000000   \nmax         1.000000       1.000000       1.000000       1.000000   \n\n              insult  identity_hate           none  \ncount  159571.000000  159571.000000  159571.000000  \nmean        0.049364       0.008805       0.898321  \nstd         0.216627       0.093420       0.302226  \nmin         0.000000       0.000000       0.000000  \n25%         0.000000       0.000000       1.000000  \n50%         0.000000       0.000000       1.000000  \n75%         0.000000       0.000000       1.000000  \nmax         1.000000       1.000000       1.000000  ",
                        "text/html": "<div>\n<style scoped>\n    .dataframe tbody tr th:only-of-type {\n        vertical-align: middle;\n    }\n\n    .dataframe tbody tr th {\n        vertical-align: top;\n    }\n\n    .dataframe thead th {\n        text-align: right;\n    }\n</style>\n<table border=\"1\" class=\"dataframe\">\n  <thead>\n    <tr style=\"text-align: right;\">\n      <th></th>\n      <th>toxic</th>\n      <th>severe_toxic</th>\n      <th>obscene</th>\n      <th>threat</th>\n      <th>insult</th>\n      <th>identity_hate</th>\n      <th>none</th>\n    </tr>\n  </thead>\n  <tbody>\n    <tr>\n      <th>count</th>\n      <td>159571.000000</td>\n      <td>159571.000000</td>\n      <td>159571.000000</td>\n      <td>159571.000000</td>\n      <td>159571.000000</td>\n      <td>159571.000000</td>\n      <td>159571.000000</td>\n    </tr>\n    <tr>\n      <th>mean</th>\n      <td>0.095844</td>\n      <td>0.009996</td>\n      <td>0.052948</td>\n      <td>0.002996</td>\n      <td>0.049364</td>\n      <td>0.008805</td>\n      <td>0.898321</td>\n    </tr>\n    <tr>\n      <th>std</th>\n      <td>0.294379</td>\n      <td>0.099477</td>\n      <td>0.223931</td>\n      <td>0.054650</td>\n      <td>0.216627</td>\n      <td>0.093420</td>\n      <td>0.302226</td>\n    </tr>\n    <tr>\n      <th>min</th>\n      <td>0.000000</td>\n      <td>0.000000</td>\n      <td>0.000000</td>\n      <td>0.000000</td>\n      <td>0.000000</td>\n      <td>0.000000</td>\n      <td>0.000000</td>\n    </tr>\n    <tr>\n      <th>25%</th>\n      <td>0.000000</td>\n      <td>0.000000</td>\n      <td>0.000000</td>\n      <td>0.000000</td>\n      <td>0.000000</td>\n      <td>0.000000</td>\n      <td>1.000000</td>\n    </tr>\n    <tr>\n      <th>50%</th>\n      <td>0.000000</td>\n      <td>0.000000</td>\n      <td>0.000000</td>\n      <td>0.000000</td>\n      <td>0.000000</td>\n      <td>0.000000</td>\n      <td>1.000000</td>\n    </tr>\n    <tr>\n      <th>75%</th>\n      <td>0.000000</td>\n      <td>0.000000</td>\n      <td>0.000000</td>\n      <td>0.000000</td>\n      <td>0.000000</td>\n      <td>0.000000</td>\n      <td>1.000000</td>\n    </tr>\n    <tr>\n      <th>max</th>\n      <td>1.000000</td>\n      <td>1.000000</td>\n      <td>1.000000</td>\n      <td>1.000000</td>\n      <td>1.000000</td>\n      <td>1.000000</td>\n      <td>1.000000</td>\n    </tr>\n  </tbody>\n</table>\n</div>"
                    },
                    "metadata": {},
                    "execution_count": 58,
                    "output_type": "execute_result"
                }
            ],
            "execution_count": 58
        },
        {
            "cell_type": "markdown",
            "source": [
                "## Visualise the Data\n",
                "\n",
                "- Check if there is any correlation between the labels and targets\n",
                "\n",
                "[https://www.geeksforgeeks.org/how-to-create-a-seaborn-correlation-heatmap-in-python/](https://www.geeksforgeeks.org/how-to-create-a-seaborn-correlation-heatmap-in-python/)"
            ],
            "metadata": {
                "language": "python",
                "azdata_cell_guid": "6eb3ca4a-8993-4e4f-af9c-578fdc2dd75a"
            },
            "attachments": {}
        },
        {
            "cell_type": "code",
            "source": [
                "hate_correlation = swearjar_train_df[HateLabels].corr()\r\n",
                "pyplot.figure(figsize=(10, 10))\r\n",
                "seaborn.heatmap(hate_correlation, annot=True, cmap='Greens', fmt=\".2f\", linewidth=.5)\r\n",
                "\r\n",
                "# Save the plot\r\n",
                "pyplot.savefig('charts/target_test_correlationmatrix.png')"
            ],
            "metadata": {
                "language": "python",
                "azdata_cell_guid": "324b830c-6182-414e-b198-ca8b8da177ec"
            },
            "outputs": [
                {
                    "data": {
                        "text/plain": "<Figure size 720x720 with 2 Axes>",
                        "image/png": "[encoded data removed]"
                    },
                    "metadata": {},
                    "output_type": "display_data"
                }
            ],
            "execution_count": 59
        },
        {
            "cell_type": "markdown",
            "source": [
                "# Model Training\n",
                "\n",
                "- <span style=\"color: rgb(60, 64, 67); font-family: Inter, sans-serif;\">Vectorise the data</span>\n",
                "- <span style=\"color: rgb(60, 64, 67); font-family: Inter, sans-serif;\">Split data into train, and validation sets</span>\n",
                "- <span style=\"color: rgb(60, 64, 67); font-family: Inter, sans-serif;\">Logistic Regression</span>\n",
                "- <span style=\"color: rgb(60, 64, 67); font-family: Inter, sans-serif;\">Naive Bayes - Support Vector Machine;&nbsp;</span>     [https://nlp.stanford.edu/pubs/sidaw12\\_simple\\_sentiment.pdf](https:\\nlp.stanford.edu\\pubs\\sidaw12_simple_sentiment.pdf)"
            ],
            "metadata": {
                "language": "python",
                "azdata_cell_guid": "2100bda8-8c1e-4fd5-98ea-9ee47d677593"
            },
            "attachments": {}
        },
        {
            "cell_type": "markdown",
            "source": [
                "## Feature Extraction\n",
                "\n",
                "- TfidfVectorizer\n",
                "- HashingVectorizer\n",
                "- CountVectorizer"
            ],
            "metadata": {
                "language": "python",
                "azdata_cell_guid": "b17c0c8b-b0c0-49eb-9ba5-c80e0509497c"
            },
            "attachments": {}
        },
        {
            "cell_type": "code",
            "source": [
                "# TfidfVectorizer\r\n",
                "# Define a tokeniser\r\n",
                "def tokenize(text):\r\n",
                "    words = nltk.word_tokenize(text)\r\n",
                "    return words\r\n",
                "\r\n",
                "vectorizer_selection = 'TfidfVectorizer' # TfidfVectorizer, CountVectorizer, HashingVectorizer\r\n",
                "\r\n",
                "# Trigrams concidered, it will try anything that is a gram(ba dum tis)\r\n",
                "if vectorizer_selection == 'TfidfVectorizer':\r\n",
                "    vectorizer = TfidfVectorizer(ngram_range=(1,6), tokenizer=tokenize, min_df=10, max_df=0.9, strip_accents='unicode', use_idf=True, smooth_idf=True, sublinear_tf=True, max_features=20000)\r\n",
                "elif vectorizer_selection == 'CountVectorizer':\r\n",
                "    vectorizer = CountVectorizer(ngram_range=(1,6), tokenizer=tokenize, min_df=10, max_df=0.9, strip_accents='unicode', max_features=20000)\r\n",
                "elif vectorizer_selection == 'HashingVectorizer':\r\n",
                "    vectorizer = HashingVectorizer(ngram_range=(1,6), tokenizer=tokenize, n_features=20000)\r\n",
                "\r\n",
                "# For model evaluation\r\n",
                "# Fit the vectorizer to the training data\r\n",
                "train_vec = vectorizer.fit_transform(swearjar_train_df['comment_text_processed'])\r\n",
                "print(train_vec.shape)\r\n",
                "\r\n",
                "# For the model we submit\r\n",
                "submission_vec = vectorizer.transform(swearjar_test_df['comment_text_processed'])\r\n",
                "print(submission_vec.shape)"
            ],
            "metadata": {
                "language": "python",
                "azdata_cell_guid": "498cedfa-b763-4d13-ae44-082031f77a4e",
                "tags": []
            },
            "outputs": [
                {
                    "name": "stderr",
                    "text": "C:\\Users\\dillo\\AppData\\Local\\Programs\\Python\\Python311\\Lib\\site-packages\\sklearn\\feature_extraction\\text.py:521: UserWarning: The parameter 'token_pattern' will not be used since 'tokenizer' is not None'\n  warnings.warn(\n",
                    "output_type": "stream"
                },
                {
                    "name": "stdout",
                    "text": "(159571, 20000)\n",
                    "output_type": "stream"
                },
                {
                    "name": "stdout",
                    "text": "(153164, 20000)\n",
                    "output_type": "stream"
                }
            ],
            "execution_count": 60
        },
        {
            "cell_type": "markdown",
            "source": [
                "## Split the Training set into Train and Test"
            ],
            "metadata": {
                "language": "python",
                "azdata_cell_guid": "d900187c-c878-4c3b-b5ce-4b2c72588774"
            },
            "attachments": {}
        },
        {
            "cell_type": "code",
            "source": [
                "x_train, x_valid, y_train, y_valid = train_test_split(train_vec,\r\n",
                "                                                      swearjar_train_df[HateLabels], \r\n",
                "                                                      random_state=42, \r\n",
                "                                                      test_size=0.3, shuffle=True)\r\n",
                ""
            ],
            "metadata": {
                "language": "python",
                "azdata_cell_guid": "64b37a85-b565-43a1-9080-77357de216f9"
            },
            "outputs": [],
            "execution_count": 61
        },
        {
            "cell_type": "code",
            "source": [
                "# Define a function to handle the model training and inference\r\n",
                "def test_model(model, x_train, x_valid, y_train, y_valid):\r\n",
                "\r\n",
                "    train_proba = numpy.zeros((x_train.shape[0],len(HateLabels)))\r\n",
                "    validate_proba = numpy.zeros((x_valid.shape[0],len(HateLabels)))\r\n",
                "    loss = []\r\n",
                "    rocauc = []\r\n",
                "    trained_model = {}\r\n",
                "\r\n",
                "    for i,j in enumerate(HateLabels):\r\n",
                "        print(f'Building {model} model for {j}')\r\n",
                "\r\n",
                "        # Train the model\r\n",
                "        model.fit(x_train, y_train[j])\r\n",
                "\r\n",
                "        # Get Probabilities\r\n",
                "        train_proba[:,1] = model.predict_proba(x_train)[:,1]\r\n",
                "        validate_proba[:,1] = model.predict_proba(x_valid)[:,1]\r\n",
                "\r\n",
                "        # Get Actual\r\n",
                "        train_preds = model.predict(x_train)\r\n",
                "        validate_preds = model.predict(x_valid)\r\n",
                "\r\n",
                "        # Model Metrics\r\n",
                "        loss.append(log_loss(y_valid[j],validate_proba[:,1]))\r\n",
                "        rocauc.append(roc_auc_score(y_valid[j],validate_proba[:,1]))\r\n",
                "\r\n",
                "        print('Training accuracy is {}'.format(accuracy_score(y_train[j],train_preds)))\r\n",
                "        print('Validation accuracy is {}'.format(accuracy_score(y_valid[j],validate_preds)))\r\n",
                "        print('Training F1 is {}'.format(f1_score(y_train[j],train_preds)))\r\n",
                "        print('Validation F1 is {}'.format(f1_score(y_valid[j],validate_preds)))\r\n",
                "        print('Training Precision is {}'.format(precision_score(y_train[j],train_preds)))\r\n",
                "        print('Validation Precision is {}'.format(precision_score(y_valid[j],validate_preds)))\r\n",
                "        print('Training Recall is {}'.format(recall_score(y_train[j],train_preds)))\r\n",
                "        print('Validation Recall is {}'.format(recall_score(y_valid[j],validate_preds)))\r\n",
                "        print('Training ROC AUC is {}'.format(roc_auc_score(y_train[j],train_proba[:,1])))\r\n",
                "        print('Validation ROC AUC is {}'.format(roc_auc_score(y_valid[j],validate_proba[:,1])))\r\n",
                "        print('')\r\n",
                "\r\n",
                "        trained_model[j] = model\r\n",
                "\r\n",
                "    print('mean column-wise log loss:Validation dataset', numpy.mean(loss))\r\n",
                "    print('mean column-wise ROC AUC:Validation dataset', numpy.mean(rocauc))\r\n",
                "\r\n",
                "    return trained_model"
            ],
            "metadata": {
                "language": "python",
                "azdata_cell_guid": "ca0e4b05-90c5-4bf4-b69a-39120070c8b1",
                "tags": []
            },
            "outputs": [],
            "execution_count": 62
        },
        {
            "cell_type": "markdown",
            "source": [
                "## <span style=\"color: rgb(60, 64, 67); font-family: Inter, sans-serif;\">Logistic Regression</span>"
            ],
            "metadata": {
                "language": "python",
                "azdata_cell_guid": "f323e70c-c43d-4dd4-b560-f5ea88d532c7"
            },
            "attachments": {}
        },
        {
            "cell_type": "code",
            "source": [
                "# Logistic regression\r\n",
                "model = LogisticRegression(C=2.2, solver='sag', n_jobs=model_n_jobs, max_iter=1000)\r\n",
                "lr_model = test_model(model, x_train, x_valid, y_train, y_valid)"
            ],
            "metadata": {
                "language": "python",
                "azdata_cell_guid": "e194b438-676b-4d48-8b41-e2a1122117b1"
            },
            "outputs": [
                {
                    "name": "stdout",
                    "text": "Building LogisticRegression(C=2.2, max_iter=1000, n_jobs=8, solver='sag') model for toxic\n",
                    "output_type": "stream"
                },
                {
                    "name": "stdout",
                    "text": "Training accuracy is 0.9662933419278597\nValidation accuracy is 0.9597886029411765\nTraining F1 is 0.800127408823061\nValidation F1 is 0.7572203304325892\nTraining Precision is 0.9275076923076923\nValidation Precision is 0.8969226172691963\n",
                    "output_type": "stream"
                },
                {
                    "name": "stdout",
                    "text": "Training Recall is 0.7035100821508589\nValidation Recall is 0.6551724137931034\nTraining ROC AUC is 0.9863005122081352\nValidation ROC AUC is 0.9702948625689786\n\nBuilding LogisticRegression(C=2.2, max_iter=1000, n_jobs=8, solver='sag') model for severe_toxic\n",
                    "output_type": "stream"
                },
                {
                    "name": "stdout",
                    "text": "Training accuracy is 0.9914144262706023\nValidation accuracy is 0.9901194852941176\nTraining F1 is 0.40984615384615386\nValidation F1 is 0.3134978229317852\nTraining Precision is 0.6453488372093024\nValidation Precision is 0.5320197044334976\nTraining Recall is 0.30027051397655546\nValidation Recall is 0.2222222222222222\nTraining ROC AUC is 0.9938524909961172\n",
                    "output_type": "stream"
                },
                {
                    "name": "stdout",
                    "text": "Validation ROC AUC is 0.9864014331818934\n\nBuilding LogisticRegression(C=2.2, max_iter=1000, n_jobs=8, solver='sag') model for obscene\n",
                    "output_type": "stream"
                },
                {
                    "name": "stdout",
                    "text": "Training accuracy is 0.9831780051746211\nValidation accuracy is 0.9788394050802139\nTraining F1 is 0.822919611723683\nValidation F1 is 0.7731243001119821\nTraining Precision is 0.9253921153030945\nValidation Precision is 0.9041382922996333\nTraining Recall is 0.7408790089937214\nValidation Recall is 0.6752738654147105\n",
                    "output_type": "stream"
                },
                {
                    "name": "stdout",
                    "text": "Training ROC AUC is 0.9944928408575054\nValidation ROC AUC is 0.986471076831227\n\nBuilding LogisticRegression(C=2.2, max_iter=1000, n_jobs=8, solver='sag') model for threat\n",
                    "output_type": "stream"
                },
                {
                    "name": "stdout",
                    "text": "Training accuracy is 0.9973768789335625\nValidation accuracy is 0.9973888703208557\nTraining F1 is 0.30403800475059384\nValidation F1 is 0.25149700598802394\nTraining Precision is 0.810126582278481\nValidation Precision is 0.6774193548387096\nTraining Recall is 0.1871345029239766\nValidation Recall is 0.15441176470588236\n",
                    "output_type": "stream"
                },
                {
                    "name": "stdout",
                    "text": "Training ROC AUC is 0.9972189439507213\nValidation ROC AUC is 0.9834658945277457\n\nBuilding LogisticRegression(C=2.2, max_iter=1000, n_jobs=8, solver='sag') model for insult\n",
                    "output_type": "stream"
                },
                {
                    "name": "stdout",
                    "text": "Training accuracy is 0.9762307630327934\nValidation accuracy is 0.9707553475935828\nTraining F1 is 0.7199662482860458\nValidation F1 is 0.6491228070175439\nTraining Precision is 0.8547458051590283\nValidation Precision is 0.8088694565896315\nTraining Recall is 0.621902332361516\nValidation Recall is 0.5420678107994977\nTraining ROC AUC is 0.9893401345355426\n",
                    "output_type": "stream"
                },
                {
                    "name": "stdout",
                    "text": "Validation ROC AUC is 0.9762515605373356\n\nBuilding LogisticRegression(C=2.2, max_iter=1000, n_jobs=8, solver='sag') model for identity_hate\n",
                    "output_type": "stream"
                },
                {
                    "name": "stdout",
                    "text": "Training accuracy is 0.9932855262804502\nValidation accuracy is 0.9921875\nTraining F1 is 0.4444444444444444\nValidation F1 is 0.3415492957746479\nTraining Precision is 0.7957559681697612\nValidation Precision is 0.7132352941176471\nTraining Recall is 0.30832476875642345\nValidation Recall is 0.22453703703703703\n",
                    "output_type": "stream"
                },
                {
                    "name": "stdout",
                    "text": "Training ROC AUC is 0.9932971956237111\nValidation ROC AUC is 0.9786031624742365\n\nmean column-wise log loss:Validation dataset 0.05209276020305029\nmean column-wise ROC AUC:Validation dataset 0.9802479983535696\n",
                    "output_type": "stream"
                }
            ],
            "execution_count": 63
        },
        {
            "cell_type": "markdown",
            "source": [
                "## Random Forest"
            ],
            "metadata": {
                "language": "python",
                "azdata_cell_guid": "0168c37a-c5c3-4283-8c64-4c9434f1ce57"
            },
            "attachments": {}
        },
        {
            "cell_type": "code",
            "source": [
                "# Random Forest Classifier\r\n",
                "model = RandomForestClassifier(n_estimators=100, criterion ='entropy', random_state=42, n_jobs=model_n_jobs)\r\n",
                "rf_model = test_model(model, x_train, x_valid, y_train, y_valid)"
            ],
            "metadata": {
                "language": "python",
                "azdata_cell_guid": "39c7a742-5ba6-4561-9b27-46083bc22704",
                "tags": []
            },
            "outputs": [
                {
                    "name": "stdout",
                    "text": "Building RandomForestClassifier(criterion='entropy', n_jobs=8, random_state=42) model for toxic\n",
                    "output_type": "stream"
                },
                {
                    "name": "stdout",
                    "text": "Training accuracy is 0.999059973679263\nValidation accuracy is 0.9545036764705882\nTraining F1 is 0.9950831187075626\nValidation F1 is 0.7113702623906706\n",
                    "output_type": "stream"
                },
                {
                    "name": "stdout",
                    "text": "Training Precision is 0.9983087475335901\nValidation Precision is 0.9055330634278003\nTraining Recall is 0.9918782673637042\nValidation Recall is 0.5857704059362724\nTraining ROC AUC is 0.9999169497470719\nValidation ROC AUC is 0.9627356396452861\n\nBuilding RandomForestClassifier(criterion='entropy', n_jobs=8, random_state=42) model for severe_toxic\n",
                    "output_type": "stream"
                },
                {
                    "name": "stdout",
                    "text": "Training accuracy is 0.9994538894708099\nValidation accuracy is 0.9896599264705882\nTraining F1 is 0.9719540229885058\nValidation F1 is 0.10810810810810811\nTraining Precision is 0.9915572232645403\n",
                    "output_type": "stream"
                },
                {
                    "name": "stdout",
                    "text": "Validation Precision is 0.43478260869565216\nTraining Recall is 0.9531109107303878\nValidation Recall is 0.06172839506172839\nTraining ROC AUC is 0.9998165997264774\nValidation ROC AUC is 0.9707919756820743\n\nBuilding RandomForestClassifier(criterion='entropy', n_jobs=8, random_state=42) model for obscene\n",
                    "output_type": "stream"
                },
                {
                    "name": "stdout",
                    "text": "Training accuracy is 0.9992927421015407\nValidation accuracy is 0.9766460561497327\nTraining F1 is 0.993276023491361\nValidation F1 is 0.7414431082331174\nTraining Precision is 0.9964139344262295\nValidation Precision is 0.9066742081447964\nTraining Recall is 0.9901578143560156\nValidation Recall is 0.627151799687011\nTraining ROC AUC is 0.9999182024172715\n",
                    "output_type": "stream"
                },
                {
                    "name": "stdout",
                    "text": "Validation ROC AUC is 0.983069640787813\n\nBuilding RandomForestClassifier(criterion='entropy', n_jobs=8, random_state=42) model for threat\n",
                    "output_type": "stream"
                },
                {
                    "name": "stdout",
                    "text": "Training accuracy is 0.9999373315786175\nValidation accuracy is 0.9972008689839572\nTraining F1 is 0.9897209985315712\nValidation F1 is 0.10666666666666667\nTraining Precision is 0.9941002949852508\nValidation Precision is 0.5714285714285714\n",
                    "output_type": "stream"
                },
                {
                    "name": "stdout",
                    "text": "Training Recall is 0.9853801169590644\nValidation Recall is 0.058823529411764705\nTraining ROC AUC is 0.9999896150870754\nValidation ROC AUC is 0.9433158412937823\n\nBuilding RandomForestClassifier(criterion='entropy', n_jobs=8, random_state=42) model for insult\n",
                    "output_type": "stream"
                },
                {
                    "name": "stdout",
                    "text": "Training accuracy is 0.9989077789416199\nValidation accuracy is 0.9685619986631016\nTraining F1 is 0.9888543760277727\nValidation F1 is 0.6069469835466179\nTraining Precision is 0.991572004397215\nValidation Precision is 0.8069444444444445\nTraining Recall is 0.9861516034985423\nValidation Recall is 0.486395981582252\nTraining ROC AUC is 0.9998552967396188\nValidation ROC AUC is 0.969561587723607\n\nBuilding RandomForestClassifier(criterion='entropy', n_jobs=8, random_state=42) model for identity_hate\n",
                    "output_type": "stream"
                },
                {
                    "name": "stdout",
                    "text": "Training accuracy is 0.999731421051218\nValidation accuracy is 0.9914772727272727\nTraining F1 is 0.9843912591050988\nValidation F1 is 0.13924050632911392\nTraining Precision is 0.9968387776606955\nValidation Precision is 0.7857142857142857\nTraining Recall is 0.9722507708119219\n",
                    "output_type": "stream"
                },
                {
                    "name": "stdout",
                    "text": "Validation Recall is 0.0763888888888889\nTraining ROC AUC is 0.9998787642779742\nValidation ROC AUC is 0.947767184474736\n\nmean column-wise log loss:Validation dataset 0.0670111527796194\nmean column-wise ROC AUC:Validation dataset 0.9628736449345497\n",
                    "output_type": "stream"
                }
            ],
            "execution_count": 64
        },
        {
            "cell_type": "markdown",
            "source": [
                "## KNN"
            ],
            "metadata": {
                "language": "python",
                "azdata_cell_guid": "11137545-40e2-488e-847b-55a2a5220878"
            },
            "attachments": {}
        },
        {
            "cell_type": "code",
            "source": [
                "# KNN Classifier\r\n",
                "model = KNeighborsClassifier(n_neighbors=5 ,metric = 'minkowski', p = 2, n_jobs=model_n_jobs)\r\n",
                "knn_model = test_model(model, x_train, x_valid, y_train, y_valid)\r\n",
                ""
            ],
            "metadata": {
                "language": "python",
                "azdata_cell_guid": "f97c9e8f-58cc-4631-b4c4-92c607ed497d"
            },
            "outputs": [
                {
                    "name": "stdout",
                    "text": "Building KNeighborsClassifier(n_jobs=8) model for toxic\n",
                    "output_type": "stream"
                },
                {
                    "name": "stdout",
                    "text": "Training accuracy is 0.9301784259483075\nValidation accuracy is 0.9147727272727273\nTraining F1 is 0.4831334084432368\nValidation F1 is 0.3584905660377358\nTraining Precision is 0.8327621658670322\nValidation Precision is 0.641169853768279\nTraining Recall is 0.3402725914861837\nValidation Recall is 0.24879965080750763\nTraining ROC AUC is 0.9127102457297631\nValidation ROC AUC is 0.6879179997578078\n\nBuilding KNeighborsClassifier(n_jobs=8) model for severe_toxic\n",
                    "output_type": "stream"
                },
                {
                    "name": "stdout",
                    "text": "Training accuracy is 0.9914412841654805\nValidation accuracy is 0.9896390374331551\nTraining F1 is 0.3469945355191257\nValidation F1 is 0.17880794701986755\nTraining Precision is 0.7154929577464789\nValidation Precision is 0.4576271186440678\nTraining Recall is 0.2290351668169522\nValidation Recall is 0.1111111111111111\nTraining ROC AUC is 0.9801908828872696\nValidation ROC AUC is 0.7369659676183639\n\nBuilding KNeighborsClassifier(n_jobs=8) model for obscene\n",
                    "output_type": "stream"
                },
                {
                    "name": "stdout",
                    "text": "Training accuracy is 0.9634911682289009\nValidation accuracy is 0.9569685828877005\nTraining F1 is 0.5052171802960447\nValidation F1 is 0.40565493364108485\nTraining Precision is 0.8863346104725415\nValidation Precision is 0.7725274725274726\nTraining Recall is 0.3533005260478534\nValidation Recall is 0.2750391236306729\nTraining ROC AUC is 0.9452657414084816\nValidation ROC AUC is 0.7189735432534202\n\nBuilding KNeighborsClassifier(n_jobs=8) model for threat\n",
                    "output_type": "stream"
                },
                {
                    "name": "stdout",
                    "text": "Training accuracy is 0.9971351578796587\nValidation accuracy is 0.997305314171123\nTraining F1 is 0.16230366492146597\nValidation F1 is 0.1568627450980392\nTraining Precision is 0.775\nValidation Precision is 0.7058823529411765\nTraining Recall is 0.09064327485380116\nValidation Recall is 0.08823529411764706\nTraining ROC AUC is 0.9987068091996623\nValidation ROC AUC is 0.6199681890101439\n\nBuilding KNeighborsClassifier(n_jobs=8) model for insult\n",
                    "output_type": "stream"
                },
                {
                    "name": "stdout",
                    "text": "Training accuracy is 0.9628286734885719\nValidation accuracy is 0.9563628008021391\nTraining F1 is 0.4536842105263158\nValidation F1 is 0.34739144017494533\nTraining Precision is 0.8162878787878788\nValidation Precision is 0.6847290640394089\nTraining Recall is 0.3141399416909621\nValidation Recall is 0.23273336123901214\nTraining ROC AUC is 0.9438875083711057\nValidation ROC AUC is 0.6993614567393829\n\nBuilding KNeighborsClassifier(n_jobs=8) model for identity_hate\n",
                    "output_type": "stream"
                },
                {
                    "name": "stdout",
                    "text": "Training accuracy is 0.9918620578519056\nValidation accuracy is 0.99139371657754\nTraining F1 is 0.15755329008341057\nValidation F1 is 0.12340425531914893\nTraining Precision is 0.8018867924528302\nValidation Precision is 0.7631578947368421\nTraining Recall is 0.08735868448098665\nValidation Recall is 0.06712962962962964\nTraining ROC AUC is 0.9922111142048762\nValidation ROC AUC is 0.6361709088673413\n\nmean column-wise log loss:Validation dataset 0.5904623193075454\nmean column-wise ROC AUC:Validation dataset 0.6832263442077432\n",
                    "output_type": "stream"
                }
            ],
            "execution_count": 65
        },
        {
            "cell_type": "markdown",
            "source": [
                "# Submission"
            ],
            "metadata": {
                "language": "python",
                "azdata_cell_guid": "2497eed4-d18e-4803-8a7a-3c3e8fda4da9"
            },
            "attachments": {}
        },
        {
            "cell_type": "code",
            "source": [
                "# lets submit random forest predictions\r\n",
                "# Logistic regression\r\n",
                "submission_proba = numpy.zeros((submission_vec.shape[0],len(HateLabels)))\r\n",
                "\r\n",
                "for i,j in enumerate(HateLabels): \r\n",
                "    print('Scoring', j)\r\n",
                "    submission_proba[:,i] = lr_model[j].predict_proba(submission_vec)[:,1] \r\n",
                "\r\n",
                "submid = pandas.DataFrame({'id': swearjar_sample_submission_df[\"id\"]})\r\n",
                "submission = pandas.concat([submid, pandas.DataFrame(submission_proba, columns = HateLabels)], axis=1)\r\n",
                "submission.to_csv('submission.csv', index=False)"
            ],
            "metadata": {
                "language": "python",
                "azdata_cell_guid": "d5243468-648a-496c-a3e1-a31544e6fdb9",
                "tags": []
            },
            "outputs": [
                {
                    "name": "stdout",
                    "text": "Scoring toxic\nScoring severe_toxic\nScoring obscene\nScoring threat\nScoring insult\nScoring identity_hate\n",
                    "output_type": "stream"
                }
            ],
            "execution_count": 66
        }
    ]
}