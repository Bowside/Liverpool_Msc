{
    "metadata": {
        "kernelspec": {
            "name": "python3",
            "display_name": "Python 3",
            "language": "python"
        },
        "language_info": {
            "name": "python",
            "version": "3.11.9",
            "mimetype": "text/x-python",
            "codemirror_mode": {
                "name": "ipython",
                "version": 3
            },
            "pygments_lexer": "ipython3",
            "nbconvert_exporter": "python",
            "file_extension": ".py"
        }
    },
    "nbformat_minor": 2,
    "nbformat": 4,
    "cells": [
        {
            "cell_type": "markdown",
            "source": [
                "# Imports\n",
                "\n",
                "pip install torch torchtext --index-url [https://download.pytorch.org/whl/cu124](https:\\download.pytorch.org\\whl\\cu124)\n",
                "\n",
                "pip install torchtext \n",
                "\n",
                "pip install seaborn\n",
                "\n",
                "pip install matplotlib \n",
                "\n",
                "pip install nltk\n",
                "\n",
                "pip install numpy\n",
                "\n",
                "pip install pandas\n",
                "\n",
                "<span style=\"color: var(--vscode-foreground);\">https://pytorch.org/tutorials/beginner/chatbot_tutorial.html</span>  \n",
                "\n",
                "https://colab.research.google.com/drive/1B16-YpENJl1QLenYdu5OHUb\\_WSYKIs89#scrollTo=7D4bTGub71za"
            ],
            "metadata": {
                "language": "python",
                "azdata_cell_guid": "cda342c9-ba13-42b9-a876-1e95ba8e064f"
            },
            "attachments": {}
        },
        {
            "cell_type": "code",
            "source": [
                "# General imports\r\n",
                "import os\r\n",
                "import re\r\n",
                "import string\r\n",
                "from zipfile import ZipFile\r\n",
                "from urllib.request import urlopen\r\n",
                "from io import BytesIO\r\n",
                "from collections import Counter\r\n",
                "import random\r\n",
                "import itertools\r\n",
                "import unicodedata\r\n",
                "\r\n",
                "# Dataframe processing imports\r\n",
                "import pandas\r\n",
                "import numpy\r\n",
                "\r\n",
                "# Pytorch related imports\r\n",
                "import torch\r\n",
                "import torch.nn as nn\r\n",
                "import torch.nn.functional as F\r\n",
                "import torch.optim as optim\r\n",
                "from torch.utils.data import Dataset, DataLoader"
            ],
            "metadata": {
                "azdata_cell_guid": "1e92d960-9d47-4cda-85dc-bf32688885a1",
                "language": "python"
            },
            "outputs": [],
            "execution_count": 6
        },
        {
            "cell_type": "code",
            "source": [
                "# Loadall Data\r\n",
                "# you would need a sizable GPU for this to be feasible\r\n",
                "corpus_loadall = False\r\n",
                "\r\n",
                "# With, or without attention\r\n",
                "with_attention = True\r\n",
                "\r\n",
                "# Set save locations\r\n",
                "model_save_dir = 'models'\r\n",
                "corpus_name = 'ubuntu-dialogue-corpus'\r\n",
                "\r\n",
                "# Folder to store the visuals\r\n",
                "if not os.path.exists(model_save_dir):\r\n",
                "    os.makedirs(model_save_dir)\r\n",
                "\r\n",
                "# Set device to either use CPU or CUDA, if installes\r\n",
                "DEVICE = torch.device(\"cuda\") if torch.cuda.is_available() else torch.device(\"cpu\")\r\n",
                "print(f\"Using device: {DEVICE}\")"
            ],
            "metadata": {
                "language": "python",
                "azdata_cell_guid": "37162250-d3b0-47a8-ab60-6d9b162fd483",
                "tags": []
            },
            "outputs": [
                {
                    "name": "stdout",
                    "text": "Using device: cuda\n",
                    "output_type": "stream"
                }
            ],
            "execution_count": 7
        },
        {
            "cell_type": "markdown",
            "source": [
                "# Dataset Creation\n",
                "\n",
                "- Download dataset if not existing\n",
                "- Load the data into a dataframe\n",
                "    - Specify the corpus\\_loadall paramter to define how much data to load\n",
                "- Extract sentence pairs"
            ],
            "metadata": {
                "language": "python",
                "azdata_cell_guid": "3334ddb4-4839-4281-9334-9d54107ff784"
            },
            "attachments": {}
        },
        {
            "cell_type": "code",
            "source": [
                "SourceURL = 'https://www.kaggle.com/api/v1/datasets/download/rtatman/ubuntu-dialogue-corpus'\r\n",
                "\r\n",
                "LocalFiles = {'toc': 'Data/toc.csv',\r\n",
                "              'dialogueText': 'Data/Ubuntu-dialogue-corpus/dialogueText.csv',\r\n",
                "              'dialogueText_196': 'Data/Ubuntu-dialogue-corpus/dialogueText_196.csv',\r\n",
                "              'dialogueText_301': 'Data/Ubuntu-dialogue-corpus/dialogueText_301.csv',}\r\n",
                "\r\n",
                "# Check if data folder exists, if not create it\r\n",
                "if not os.path.exists('Data'):\r\n",
                "    os.makedirs('Data')\r\n",
                "\r\n",
                "# Check if data is already downloaded, if not download it\r\n",
                "for file in LocalFiles:\r\n",
                "    if os.path.exists(LocalFiles[file]):\r\n",
                "        print(f'File {LocalFiles[file]} already downloaded')\r\n",
                "    else:\r\n",
                "        print(f'Downloading {SourceURL}')\r\n",
                "        resp = urlopen(SourceURL)\r\n",
                "        DocZip = ZipFile(BytesIO(resp.read()))\r\n",
                "        DocZip.extractall('Data')"
            ],
            "metadata": {
                "language": "python",
                "azdata_cell_guid": "c4b828bf-dad6-4d9c-8b7a-e6100b26c63e"
            },
            "outputs": [
                {
                    "name": "stdout",
                    "text": "Downloading https://www.kaggle.com/api/v1/datasets/download/rtatman/ubuntu-dialogue-corpus\n",
                    "output_type": "stream"
                },
                {
                    "name": "stdout",
                    "text": "File Data/Ubuntu-dialogue-corpus/dialogueText.csv already downloaded\nFile Data/Ubuntu-dialogue-corpus/dialogueText_196.csv already downloaded\nFile Data/Ubuntu-dialogue-corpus/dialogueText_301.csv already downloaded\n",
                    "output_type": "stream"
                }
            ],
            "execution_count": 8
        },
        {
            "cell_type": "code",
            "source": [
                "# If corpus_loadall is false, only load dialogueText.csv, otherwise load all files\r\n",
                "corpus_df = pandas.DataFrame()\r\n",
                "\r\n",
                "if corpus_loadall == True:\r\n",
                "    print(\"Loading all corpus files\")\r\n",
                "    for f in LocalFiles:\r\n",
                "        data = pandas.read_csv(LocalFiles[f], encoding='utf-8')\r\n",
                "        corpus_df = pandas.concat([corpus_df, data])\r\n",
                "elif corpus_loadall == False:\r\n",
                "    print(\"Loading dialogueText.csv\")\r\n",
                "    data = pandas.read_csv(LocalFiles['dialogueText'], encoding='utf-8')\r\n",
                "    corpus_df = pandas.concat([corpus_df, data])"
            ],
            "metadata": {
                "language": "python",
                "azdata_cell_guid": "e9c66a2f-2e59-42b2-ba61-9c88257c9818"
            },
            "outputs": [
                {
                    "name": "stdout",
                    "text": "Loading dialogueText.csv\n",
                    "output_type": "stream"
                }
            ],
            "execution_count": 9
        },
        {
            "cell_type": "code",
            "source": [
                "# order the columns by dialogueID and date\r\n",
                "corpus_df.sort_values(by=['dialogueID', 'date'], inplace=True)\r\n",
                "corpus_df.reset_index(drop=True, inplace=True)\r\n",
                "\r\n",
                "# Drop unwanted columns and rows, save memory!\r\n",
                "corpus_df.drop(['folder', 'date', 'from', 'to'], axis=1, inplace=True)\r\n",
                "corpus_df.dropna(subset=['text'], inplace=True)\r\n",
                "\r\n",
                "print(corpus_df.shape)\r\n",
                "corpus_df.head()"
            ],
            "metadata": {
                "language": "python",
                "azdata_cell_guid": "ddcbde6f-d1d1-455f-a601-a3f4bcd8c902"
            },
            "outputs": [
                {
                    "name": "stdout",
                    "text": "(1038235, 2)\n",
                    "output_type": "stream"
                },
                {
                    "data": {
                        "text/plain": "  dialogueID                                               text\n0      1.tsv  Also guys, I'm trying to get into my FIrefox p...\n1      1.tsv                      are you logged in as 'root' ?\n2      1.tsv                                                no.\n3     10.tsv  ugh ;(  http://planet.ubuntulinux.org seems to...\n4     10.tsv  perhaps if you define *broken* a little, we ca...",
                        "text/html": "<div>\n<style scoped>\n    .dataframe tbody tr th:only-of-type {\n        vertical-align: middle;\n    }\n\n    .dataframe tbody tr th {\n        vertical-align: top;\n    }\n\n    .dataframe thead th {\n        text-align: right;\n    }\n</style>\n<table border=\"1\" class=\"dataframe\">\n  <thead>\n    <tr style=\"text-align: right;\">\n      <th></th>\n      <th>dialogueID</th>\n      <th>text</th>\n    </tr>\n  </thead>\n  <tbody>\n    <tr>\n      <th>0</th>\n      <td>1.tsv</td>\n      <td>Also guys, I'm trying to get into my FIrefox p...</td>\n    </tr>\n    <tr>\n      <th>1</th>\n      <td>1.tsv</td>\n      <td>are you logged in as 'root' ?</td>\n    </tr>\n    <tr>\n      <th>2</th>\n      <td>1.tsv</td>\n      <td>no.</td>\n    </tr>\n    <tr>\n      <th>3</th>\n      <td>10.tsv</td>\n      <td>ugh ;(  http://planet.ubuntulinux.org seems to...</td>\n    </tr>\n    <tr>\n      <th>4</th>\n      <td>10.tsv</td>\n      <td>perhaps if you define *broken* a little, we ca...</td>\n    </tr>\n  </tbody>\n</table>\n</div>"
                    },
                    "metadata": {},
                    "execution_count": 10,
                    "output_type": "execute_result"
                }
            ],
            "execution_count": 10
        },
        {
            "cell_type": "code",
            "source": [
                "# Extract pairs of sentences from the conversations\r\n",
                "# The output is a list of pairs of sentences, one pair per row\r\n",
                "\r\n",
                "# Group sentences by dialogueID using dictionary comprehension\r\n",
                "sentence_pairs = {\r\n",
                "    dialogue_id: sentences.tolist()\r\n",
                "    for dialogue_id, sentences in corpus_df.groupby('dialogueID')['text']\r\n",
                "}\r\n",
                "\r\n",
                "# Generate sentence pairs from the dictionary\r\n",
                "pairs = []\r\n",
                "for dialogue_id, sentences in sentence_pairs.items():\r\n",
                "    if len(sentences) >= 2:  # Ensure at least two sentences for a dialogue\r\n",
                "        for i in range(len(sentences) - 1):\r\n",
                "            pairs.append((sentences[i], sentences[i + 1]))\r\n",
                "\r\n",
                "\r\n",
                "# Write sentence pairs to a dataframe\r\n",
                "pairs_df = pandas.DataFrame(pairs, columns=['question', 'answer'])\r\n",
                "print(pairs_df.shape)\r\n",
                "pairs_df.head()"
            ],
            "metadata": {
                "azdata_cell_guid": "a2cf5fcf-5730-4a91-8e1b-91c652e5aa21",
                "language": "python"
            },
            "outputs": [
                {
                    "name": "stdout",
                    "text": "(692127, 2)\n",
                    "output_type": "stream"
                },
                {
                    "data": {
                        "text/plain": "                                            question  \\\n0  Also guys, I'm trying to get into my FIrefox p...   \n1                      are you logged in as 'root' ?   \n2  ugh ;(  http://planet.ubuntulinux.org seems to...   \n3  perhaps if you define *broken* a little, we ca...   \n4                                        ohh to late   \n\n                                              answer  \n0                      are you logged in as 'root' ?  \n1                                                no.  \n2  perhaps if you define *broken* a little, we ca...  \n3  hypa7ia: Every single entry is by Tollef Fog H...  \n4  http://www.ubuntulinux.org/ubuntu/login.png IS...  ",
                        "text/html": "<div>\n<style scoped>\n    .dataframe tbody tr th:only-of-type {\n        vertical-align: middle;\n    }\n\n    .dataframe tbody tr th {\n        vertical-align: top;\n    }\n\n    .dataframe thead th {\n        text-align: right;\n    }\n</style>\n<table border=\"1\" class=\"dataframe\">\n  <thead>\n    <tr style=\"text-align: right;\">\n      <th></th>\n      <th>question</th>\n      <th>answer</th>\n    </tr>\n  </thead>\n  <tbody>\n    <tr>\n      <th>0</th>\n      <td>Also guys, I'm trying to get into my FIrefox p...</td>\n      <td>are you logged in as 'root' ?</td>\n    </tr>\n    <tr>\n      <th>1</th>\n      <td>are you logged in as 'root' ?</td>\n      <td>no.</td>\n    </tr>\n    <tr>\n      <th>2</th>\n      <td>ugh ;(  http://planet.ubuntulinux.org seems to...</td>\n      <td>perhaps if you define *broken* a little, we ca...</td>\n    </tr>\n    <tr>\n      <th>3</th>\n      <td>perhaps if you define *broken* a little, we ca...</td>\n      <td>hypa7ia: Every single entry is by Tollef Fog H...</td>\n    </tr>\n    <tr>\n      <th>4</th>\n      <td>ohh to late</td>\n      <td>http://www.ubuntulinux.org/ubuntu/login.png IS...</td>\n    </tr>\n  </tbody>\n</table>\n</div>"
                    },
                    "metadata": {},
                    "execution_count": 19,
                    "output_type": "execute_result"
                }
            ],
            "execution_count": 19
        },
        {
            "cell_type": "markdown",
            "source": [
                "# Preprocessing"
            ],
            "metadata": {
                "azdata_cell_guid": "b5bbfeaa-9aea-4a2b-b994-92969708dd1e"
            },
            "attachments": {}
        },
        {
            "cell_type": "markdown",
            "source": [
                "Let's now create a vocabulary and load query/response sentence pairs into memory.\n",
                "\n",
                "Remember that we are dealing with sequences of words, which do not have an implicit mapping to a discrete numerical space. A mapping must be created by mapping each unique word in the dataset to an index value.\n",
                "\n",
                "The Voc class keeps a mapping from words to indexes, a reverse mapping of indexes to words, a count of each word and a total word count. The class provides methods for adding a word to the vocabulary (addWord), adding all words in a sentence (addSentence) and trimming infrequently seen words (trim)."
            ],
            "metadata": {
                "azdata_cell_guid": "b88fef4d-a1f6-4775-beff-f19a8083a91a"
            },
            "attachments": {}
        },
        {
            "cell_type": "code",
            "source": [
                "# Default word tokens\r\n",
                "PAD_token = 0  # Used for padding short sentences\r\n",
                "SOS_token = 1  # Start-of-sentence token\r\n",
                "EOS_token = 2  # End-of-sentence token\r\n",
                "\r\n",
                "class Voc:\r\n",
                "    def __init__(self, name):\r\n",
                "        self.name = name\r\n",
                "        self.trimmed = False\r\n",
                "        self.word2index = {}\r\n",
                "        self.word2count = {}\r\n",
                "        self.index2word = {PAD_token: \"PAD\", SOS_token: \"SOS\", EOS_token: \"EOS\"}\r\n",
                "        self.num_words = 3  # Count SOS, EOS, PAD\r\n",
                "\r\n",
                "    def addSentence(self, sentence):\r\n",
                "        for word in sentence.split(' '):\r\n",
                "            self.addWord(word)\r\n",
                "\r\n",
                "    def addWord(self, word):\r\n",
                "        if word not in self.word2index:\r\n",
                "            self.word2index[word] = self.num_words\r\n",
                "            self.word2count[word] = 1\r\n",
                "            self.index2word[self.num_words] = word\r\n",
                "            self.num_words += 1\r\n",
                "        else:\r\n",
                "            self.word2count[word] += 1\r\n",
                "\r\n",
                "    # Remove words below a certain count threshold\r\n",
                "    def trim(self, min_count):\r\n",
                "        if self.trimmed:\r\n",
                "            return\r\n",
                "        self.trimmed = True\r\n",
                "\r\n",
                "        keep_words = []\r\n",
                "\r\n",
                "        for k, v in self.word2count.items():\r\n",
                "            if v >= min_count:\r\n",
                "                keep_words.append(k)\r\n",
                "\r\n",
                "        print('keep_words {} / {} = {:.4f}'.format(\r\n",
                "            len(keep_words), len(self.word2index), len(keep_words) / len(self.word2index)\r\n",
                "        ))\r\n",
                "\r\n",
                "        # Reinitialize dictionaries\r\n",
                "        self.word2index = {}\r\n",
                "        self.word2count = {}\r\n",
                "        self.index2word = {PAD_token: \"PAD\", SOS_token: \"SOS\", EOS_token: \"EOS\"}\r\n",
                "        self.num_words = 3 # Count default tokens\r\n",
                "\r\n",
                "        for word in keep_words:\r\n",
                "            self.addWord(word)\r\n",
                "            "
            ],
            "metadata": {
                "azdata_cell_guid": "ef96a658-498b-4b01-acae-1867190652e8",
                "language": "python"
            },
            "outputs": [],
            "execution_count": 20
        },
        {
            "cell_type": "markdown",
            "source": [
                "Let's also write some functions to clean the text.\n",
                "\n",
                "1. Convert Unicode strings to ASCII using unicodeToAscii\n",
                "2. Convert all letters to lowercase and trim all non-letter characters except for basic punctuation (normalizeString)\n",
                "3. Filter out sentences with length greater than the MAX\\_LENGTH threshold (filterPairs) to facilitate training convergence."
            ],
            "metadata": {
                "azdata_cell_guid": "15909b16-046b-452b-8f51-4b0bd0b1ad72"
            },
            "attachments": {}
        },
        {
            "cell_type": "code",
            "source": [
                "MAX_LENGTH = 10  # Maximum sentence length to consider\r\n",
                "\r\n",
                "# Turn a Unicode string to plain ASCII, thanks to\r\n",
                "# https://stackoverflow.com/a/518232/2809427\r\n",
                "def unicodeToAscii(s):\r\n",
                "    return ''.join(\r\n",
                "        c for c in unicodedata.normalize('NFD', s)\r\n",
                "        if unicodedata.category(c) != 'Mn'\r\n",
                "    )\r\n",
                "\r\n",
                "# Lowercase, trim, and remove non-letter characters\r\n",
                "def normalizeString(s):\r\n",
                "    s = unicodeToAscii(s.lower().strip())\r\n",
                "    s = re.sub(r\"([.!?])\", r\" \\1\", s)\r\n",
                "    s = re.sub(r\"[^a-zA-Z.!?]+\", r\" \", s)\r\n",
                "    s = re.sub(r\"\\s+\", r\" \", s).strip()\r\n",
                "    return s\r\n",
                "\r\n",
                "# Read query/response pairs and return a voc object\r\n",
                "def readVocs(dataframe, corpus_name):\r\n",
                "    # Create pairs from the DataFrame\r\n",
                "    pairs = dataframe.values.tolist()\r\n",
                "    voc = Voc(corpus_name)\r\n",
                "    return voc, pairs\r\n",
                "\r\n",
                "# Returns True iff both sentences in a pair 'p' are under the MAX_LENGTH threshold\r\n",
                "def filterPair(p):\r\n",
                "    # Input sequences need to preserve the last word for EOS token\r\n",
                "    return len(p[0].split(' ')) < MAX_LENGTH and len(p[1].split(' ')) < MAX_LENGTH\r\n",
                "\r\n",
                "# Filter pairs using filterPair condition\r\n",
                "def filterPairs(pairs):\r\n",
                "    return [pair for pair in pairs if filterPair(pair)]\r\n",
                "\r\n",
                "# Using the functions defined above, return a populated voc object and pairs list\r\n",
                "def loadPrepareData(dataframe, corpus_name):\r\n",
                "    print(\"Start preparing training data ...\")\r\n",
                "    voc, pairs = readVocs(dataframe, corpus_name)\r\n",
                "    print(\"Read {!s} sentence pairs\".format(len(pairs)))\r\n",
                "    pairs = filterPairs(pairs)\r\n",
                "    print(\"Trimmed to {!s} sentence pairs\".format(len(pairs)))\r\n",
                "    print(\"Counting words...\")\r\n",
                "    for pair in pairs:\r\n",
                "        voc.addSentence(pair[0])\r\n",
                "        voc.addSentence(pair[1])\r\n",
                "    print(\"Counted words:\", voc.num_words)\r\n",
                "    return voc, pairs"
            ],
            "metadata": {
                "language": "python",
                "azdata_cell_guid": "a85f5b2a-a7b5-439f-a519-d3cb2ff80d53",
                "tags": []
            },
            "outputs": [],
            "execution_count": 21
        },
        {
            "cell_type": "code",
            "source": [
                "voc, pairs = loadPrepareData(pairs_df, corpus_name)\r\n",
                "# Print some pairs to validate\r\n",
                "print(\"\\npairs:\")\r\n",
                "for pair in pairs[:10]:\r\n",
                "    print(pair)"
            ],
            "metadata": {
                "azdata_cell_guid": "2dfefb49-0048-429a-8239-c4d2450a4e2e",
                "language": "python"
            },
            "outputs": [
                {
                    "name": "stdout",
                    "text": "Start preparing training data ...\nRead 692127 sentence pairs\n",
                    "output_type": "stream"
                },
                {
                    "name": "stdout",
                    "text": "Trimmed to 263288 sentence pairs\nCounting words...\n",
                    "output_type": "stream"
                },
                {
                    "name": "stdout",
                    "text": "Counted words: 155430\n\npairs:\n[\"are you logged in as 'root' ?\", ' no.']\n['ohh to late', 'http://www.ubuntulinux.org/ubuntu/login.png IS SO G-A-Y']\n['http://www.ubuntulinux.org/ubuntu/login.png IS SO G-A-Y', 'easy, now']\n['see bug 67085', 'sorry, typo, ignore that... try this one bug 767085']\n['sorry, typo, ignore that... try this one bug 767085', 'so update libc6?']\n['HAI THAR', 'go awai']\n['go awai', 'hello']\n['it would install anotehr bootloader', 'like what?']\n['Does anyone use anything like that?', \"grep 'what you are looking for' file\"]\n['make videos of what? your screen?', 'oo... no idea then, sorry']\n",
                    "output_type": "stream"
                }
            ],
            "execution_count": 23
        },
        {
            "cell_type": "markdown",
            "source": [
                "Another tactic that is beneficial to achieving faster convergence during training is trimming rarely used words out of our vocabulary.\n",
                "\n",
                "Decreasing the feature space will also soften the difficulty of the function that the model must learn to approximate. We will do this as a two-step process:\n",
                "\n",
                "Trim words used under MIN\\_COUNT threshold using the voc.trim function. Filter out pairs with trimmed words."
            ],
            "metadata": {
                "language": "python",
                "azdata_cell_guid": "5172c54f-8cd9-499b-83b1-3427f97666fc"
            },
            "attachments": {}
        },
        {
            "cell_type": "code",
            "source": [
                "MIN_COUNT = 3    # Minimum word count threshold for trimming\r\n",
                "\r\n",
                "def trimRareWords(voc, pairs, MIN_COUNT):\r\n",
                "    # Trim words used under the MIN_COUNT from the voc\r\n",
                "    voc.trim(MIN_COUNT)\r\n",
                "    # Filter out pairs with trimmed words\r\n",
                "    keep_pairs = []\r\n",
                "    for pair in pairs:\r\n",
                "        input_sentence = pair[0]\r\n",
                "        output_sentence = pair[1]\r\n",
                "        keep_input = True\r\n",
                "        keep_output = True\r\n",
                "        # Check input sentence\r\n",
                "        for word in input_sentence.split(' '):\r\n",
                "            if word not in voc.word2index:\r\n",
                "                keep_input = False\r\n",
                "                break\r\n",
                "        # Check output sentence\r\n",
                "        for word in output_sentence.split(' '):\r\n",
                "            if word not in voc.word2index:\r\n",
                "                keep_output = False\r\n",
                "                break\r\n",
                "\r\n",
                "        # Only keep pairs that do not contain trimmed word(s) in their input or output sentence\r\n",
                "        if keep_input and keep_output:\r\n",
                "            keep_pairs.append(pair)\r\n",
                "\r\n",
                "    print(\"Trimmed from {} pairs to {}, {:.4f} of total\".format(len(pairs), len(keep_pairs), len(keep_pairs) / len(pairs)))\r\n",
                "    return keep_pairs\r\n",
                "\r\n",
                "\r\n",
                "# Trim voc and pairs\r\n",
                "pairs = trimRareWords(voc, pairs, MIN_COUNT)"
            ],
            "metadata": {
                "language": "python",
                "azdata_cell_guid": "a906e47a-e71b-4f57-bbf2-b6b77faf8c0e"
            },
            "outputs": [
                {
                    "name": "stdout",
                    "text": "keep_words 35965 / 155427 = 0.2314\n",
                    "output_type": "stream"
                },
                {
                    "name": "stdout",
                    "text": "Trimmed from 263288 pairs to 154913, 0.5884 of total\n",
                    "output_type": "stream"
                }
            ],
            "execution_count": 24
        },
        {
            "cell_type": "code",
            "source": [
                "def indexesFromSentence(voc, sentence):\r\n",
                "    return [voc.word2index[word] for word in sentence.split(' ')] + [EOS_token]\r\n",
                "\r\n",
                "\r\n",
                "def zeroPadding(l, fillvalue=PAD_token):\r\n",
                "    return list(itertools.zip_longest(*l, fillvalue=fillvalue))\r\n",
                "\r\n",
                "def binaryMatrix(l, value=PAD_token):\r\n",
                "    m = []\r\n",
                "    for i, seq in enumerate(l):\r\n",
                "        m.append([])\r\n",
                "        for token in seq:\r\n",
                "            if token == PAD_token:\r\n",
                "                m[i].append(0)\r\n",
                "            else:\r\n",
                "                m[i].append(1)\r\n",
                "    return m\r\n",
                "\r\n",
                "# Returns padded input sequence tensor and lengths\r\n",
                "def inputVar(l, voc):\r\n",
                "    #print(l)\r\n",
                "    #for sentence in l:\r\n",
                "    #    print(indexesFromSentence(voc, sentence))\r\n",
                "    #print()\r\n",
                "    indexes_batch = [indexesFromSentence(voc, sentence) for sentence in l]\r\n",
                "    lengths = torch.tensor([len(indexes) for indexes in indexes_batch])\r\n",
                "    padList = zeroPadding(indexes_batch)\r\n",
                "    padVar = torch.LongTensor(padList)\r\n",
                "    #print(padVar)\r\n",
                "    #print(lengths)\r\n",
                "    return padVar, lengths\r\n",
                "\r\n",
                "# Returns padded target sequence tensor, padding mask, and max target length\r\n",
                "def outputVar(l, voc):\r\n",
                "    indexes_batch = [indexesFromSentence(voc, sentence) for sentence in l]\r\n",
                "    max_target_len = max([len(indexes) for indexes in indexes_batch])\r\n",
                "    padList = zeroPadding(indexes_batch)\r\n",
                "    mask = binaryMatrix(padList)\r\n",
                "    mask = torch.BoolTensor(mask)\r\n",
                "    padVar = torch.LongTensor(padList)\r\n",
                "    return padVar, mask, max_target_len\r\n",
                "\r\n",
                "# Returns all items for a given batch of pairs\r\n",
                "def batch2TrainData(voc, pair_batch):\r\n",
                "    #print()\r\n",
                "    pair_batch.sort(key=lambda x: len(x[0].split(\" \")), reverse=True)\r\n",
                "    input_batch, output_batch = [], []\r\n",
                "    for pair in pair_batch:\r\n",
                "        input_batch.append(pair[0])\r\n",
                "        output_batch.append(pair[1])\r\n",
                "    inp, lengths = inputVar(input_batch, voc)\r\n",
                "    output, mask, max_target_len = outputVar(output_batch, voc)\r\n",
                "    return inp, lengths, output, mask, max_target_len\r\n",
                "\r\n",
                "\r\n",
                "# Example for validation\r\n",
                "small_batch_size = 5\r\n",
                "batches = batch2TrainData(voc, [random.choice(pairs) for _ in range(small_batch_size)])\r\n",
                "input_variable, lengths, target_variable, mask, max_target_len = batches\r\n",
                "\r\n",
                "print(\"input_variable:\", input_variable)\r\n",
                "print(\"lengths:\", lengths)\r\n",
                "print(\"target_variable:\", target_variable)\r\n",
                "print(\"mask:\", mask)\r\n",
                "print(\"max_target_len:\", max_target_len)\r\n",
                ""
            ],
            "metadata": {
                "azdata_cell_guid": "1285fbb8-1806-4628-bd45-8c55d8407d18",
                "language": "python"
            },
            "outputs": [
                {
                    "name": "stdout",
                    "text": "input_variable: tensor([[  277,   321,   126,   638,   214],\n        [  627,    37,   344,  3421,     2],\n        [  132,   794,  6333,     2,     0],\n        [ 1488,    13,    87,     0,     0],\n        [    6,   141,  1236,     0,     0],\n        [ 1635,  1973,   196,     0,     0],\n        [  200,   200,     2,     0,     0],\n        [10643,  1228,     0,     0,     0],\n        [    2,     2,     0,     0,     0]])\nlengths: tensor([9, 9, 7, 3, 2])\ntarget_variable: tensor([[  139,    85,   409,   387,   214],\n        [  865,   271,   132,     2,   105],\n        [ 1435,   171,   292,     0,     2],\n        [    3,    13, 30296,     0,     0],\n        [    4,  3102,  7696,     0,     0],\n        [ 2367, 17122,  1143,     0,     0],\n        [    2,     2,  6767,     0,     0],\n        [    0,     0,   196,     0,     0],\n        [    0,     0,     2,     0,     0]])\nmask: tensor([[ True,  True,  True,  True,  True],\n        [ True,  True,  True,  True,  True],\n        [ True,  True,  True, False,  True],\n        [ True,  True,  True, False, False],\n        [ True,  True,  True, False, False],\n        [ True,  True,  True, False, False],\n        [ True,  True,  True, False, False],\n        [False, False,  True, False, False],\n        [False, False,  True, False, False]])\nmax_target_len: 9\n",
                    "output_type": "stream"
                }
            ],
            "execution_count": 25
        },
        {
            "cell_type": "markdown",
            "source": [
                "# Model Training"
            ],
            "metadata": {
                "language": "python",
                "azdata_cell_guid": "244286ed-a54f-4dc5-aa60-92b448c55f95"
            },
            "attachments": {}
        },
        {
            "cell_type": "code",
            "source": [
                "# Encoder\r\n",
                "class EncoderRNN(nn.Module):\r\n",
                "    def __init__(self, hidden_size, embedding, n_layers=1, dropout=0):\r\n",
                "        super(EncoderRNN, self).__init__()\r\n",
                "        self.n_layers = n_layers\r\n",
                "        self.hidden_size = hidden_size\r\n",
                "        self.embedding = embedding\r\n",
                "\r\n",
                "        # Initialize GRU; the input_size and hidden_size params are both set to 'hidden_size'\r\n",
                "        #   because our input size is a word embedding with number of features == hidden_size\r\n",
                "        self.gru = nn.GRU(hidden_size, hidden_size, n_layers, dropout=(0 if n_layers == 1 else dropout), bidirectional=True)\r\n",
                "\r\n",
                "    def forward(self, input_seq, input_lengths, hidden=None):\r\n",
                "        # Convert word indexes to embeddings\r\n",
                "        embedded = self.embedding(input_seq)\r\n",
                "        # Pack padded batch of sequences for RNN module\r\n",
                "        packed = nn.utils.rnn.pack_padded_sequence(embedded, input_lengths)\r\n",
                "        # Forward pass through GRU\r\n",
                "        outputs, hidden = self.gru(packed, hidden)\r\n",
                "        # Unpack padding\r\n",
                "        outputs, _ = nn.utils.rnn.pad_packed_sequence(outputs)\r\n",
                "        # Sum bidirectional GRU outputs\r\n",
                "        outputs = outputs[:, :, :self.hidden_size] + outputs[:, : ,self.hidden_size:]\r\n",
                "        # Return output and final hidden state\r\n",
                "        return outputs, hidden"
            ],
            "metadata": {
                "language": "python",
                "azdata_cell_guid": "ad6ab009-92ef-4360-894a-39a885d2f48c",
                "tags": []
            },
            "outputs": [],
            "execution_count": 27
        },
        {
            "cell_type": "code",
            "source": [
                "# Decoder, without attention mechanism, for the seq2seq model\r\n",
                "class DecoderRNN(nn.Module):\r\n",
                "    def __init__(self, embedding, hidden_size, output_size, n_layers=1, dropout=0.1):\r\n",
                "        super(DecoderRNN, self).__init__()\r\n",
                "        self.hidden_size = hidden_size\r\n",
                "        self.output_size = output_size\r\n",
                "        self.n_layers = n_layers\r\n",
                "\r\n",
                "        self.embedding = embedding\r\n",
                "        self.gru = nn.GRU(hidden_size, hidden_size, n_layers, dropout=(0 if n_layers == 1 else dropout))\r\n",
                "        self.out = nn.Linear(hidden_size, output_size)\r\n",
                "\r\n",
                "    def forward(self, input_step, last_hidden, encoder_outputs):\r\n",
                "        # Convert input word index to embedding\r\n",
                "        # embedded = self.embedding(input_step).unsqueeze(0)\r\n",
                "        # Note: we run this one step (word) at a time\r\n",
                "        # Get embedding of current input word\r\n",
                "        embedded = self.embedding(input_step)\r\n",
                "       #embedded = self.embedding_dropout(embedded)\r\n",
                "\r\n",
                "        # Forward pass through GRU\r\n",
                "        output, hidden = self.gru(embedded, last_hidden)\r\n",
                "\r\n",
                "        # Output layer (next word prediction)\r\n",
                "        output = self.out(output.squeeze(0))\r\n",
                "        # Softmax for probability distribution\r\n",
                "        output = F.softmax(output, dim=1)\r\n",
                "\r\n",
                "        return output, hidden"
            ],
            "metadata": {
                "azdata_cell_guid": "7f5b8de4-1c9a-426b-a52a-1d7b66b00b38",
                "language": "python"
            },
            "outputs": [],
            "execution_count": 28
        },
        {
            "cell_type": "code",
            "source": [
                "# Luong attention layer\r\n",
                "class Attn(nn.Module):\r\n",
                "    def __init__(self, method, hidden_size):\r\n",
                "        super(Attn, self).__init__()\r\n",
                "        self.method = method\r\n",
                "        if self.method not in ['dot', 'general', 'concat']:\r\n",
                "            raise ValueError(self.method, \"is not an appropriate attention method.\")\r\n",
                "        self.hidden_size = hidden_size\r\n",
                "        if self.method == 'general':\r\n",
                "            self.attn = nn.Linear(self.hidden_size, hidden_size)\r\n",
                "        elif self.method == 'concat':\r\n",
                "            self.attn = nn.Linear(self.hidden_size * 2, hidden_size)\r\n",
                "            self.v = nn.Parameter(torch.FloatTensor(hidden_size))\r\n",
                "\r\n",
                "    def dot_score(self, hidden, encoder_output):\r\n",
                "        return torch.sum(hidden * encoder_output, dim=2)\r\n",
                "\r\n",
                "    def general_score(self, hidden, encoder_output):\r\n",
                "        energy = self.attn(encoder_output)\r\n",
                "        return torch.sum(hidden * energy, dim=2)\r\n",
                "\r\n",
                "    def concat_score(self, hidden, encoder_output):\r\n",
                "        energy = self.attn(torch.cat((hidden.expand(encoder_output.size(0), -1, -1), encoder_output), 2)).tanh()\r\n",
                "        return torch.sum(self.v * energy, dim=2)\r\n",
                "\r\n",
                "    def forward(self, hidden, encoder_outputs):\r\n",
                "        # Calculate the attention weights (energies) based on the given method\r\n",
                "        if self.method == 'general':\r\n",
                "            attn_energies = self.general_score(hidden, encoder_outputs)\r\n",
                "        elif self.method == 'concat':\r\n",
                "            attn_energies = self.concat_score(hidden, encoder_outputs)\r\n",
                "        elif self.method == 'dot':\r\n",
                "            attn_energies = self.dot_score(hidden, encoder_outputs)\r\n",
                "\r\n",
                "        # Transpose max_length and batch_size dimensions\r\n",
                "        attn_energies = attn_energies.t()\r\n",
                "\r\n",
                "        # Return the softmax normalized probability scores (with added dimension)\r\n",
                "        return F.softmax(attn_energies, dim=1).unsqueeze(1)"
            ],
            "metadata": {
                "language": "python",
                "azdata_cell_guid": "5268f6c6-5ea6-411e-8f20-00ca996876e1"
            },
            "outputs": [],
            "execution_count": 29
        },
        {
            "cell_type": "code",
            "source": [
                "# Decoder, with attention mechanism, for the seq2seq model\r\n",
                "class LuongAttnDecoderRNN(nn.Module):\r\n",
                "    def __init__(self, attn_model, embedding, hidden_size, output_size, n_layers=1, dropout=0.1):\r\n",
                "        super(LuongAttnDecoderRNN, self).__init__()\r\n",
                "\r\n",
                "        # Keep for reference\r\n",
                "        self.attn_model = attn_model\r\n",
                "        self.hidden_size = hidden_size\r\n",
                "        self.output_size = output_size\r\n",
                "        self.n_layers = n_layers\r\n",
                "        self.dropout = dropout\r\n",
                "\r\n",
                "        # Define layers\r\n",
                "        self.embedding = embedding\r\n",
                "        self.embedding_dropout = nn.Dropout(dropout)\r\n",
                "        self.gru = nn.GRU(hidden_size, hidden_size, n_layers, dropout=(0 if n_layers == 1 else dropout))\r\n",
                "        self.concat = nn.Linear(hidden_size * 2, hidden_size)\r\n",
                "        self.out = nn.Linear(hidden_size, output_size)\r\n",
                "\r\n",
                "        self.attn = Attn(attn_model, hidden_size)\r\n",
                "\r\n",
                "    def forward(self, input_step, last_hidden, encoder_outputs):\r\n",
                "        # Note: we run this one step (word) at a time\r\n",
                "        # Get embedding of current input word\r\n",
                "        embedded = self.embedding(input_step)\r\n",
                "        embedded = self.embedding_dropout(embedded)\r\n",
                "        # Forward through unidirectional GRU\r\n",
                "        rnn_output, hidden = self.gru(embedded, last_hidden)\r\n",
                "        # Calculate attention weights from the current GRU output\r\n",
                "        attn_weights = self.attn(rnn_output, encoder_outputs)\r\n",
                "        # Multiply attention weights to encoder outputs to get new \"weighted sum\" context vector\r\n",
                "        context = attn_weights.bmm(encoder_outputs.transpose(0, 1))\r\n",
                "        # Concatenate weighted context vector and GRU output using Luong eq. 5\r\n",
                "        rnn_output = rnn_output.squeeze(0)\r\n",
                "        context = context.squeeze(1)\r\n",
                "        concat_input = torch.cat((rnn_output, context), 1)\r\n",
                "        concat_output = torch.tanh(self.concat(concat_input))\r\n",
                "        # Predict next word using Luong eq. 6\r\n",
                "        output = self.out(concat_output)\r\n",
                "        # Softmax for probability distribution\r\n",
                "        output = F.softmax(output, dim=1)\r\n",
                "        # Return output and final hidden state\r\n",
                "        return output, hidden"
            ],
            "metadata": {
                "azdata_cell_guid": "57a25d2b-0ca4-418a-b2d0-06a20c1216ef",
                "language": "python"
            },
            "outputs": [],
            "execution_count": 30
        },
        {
            "cell_type": "code",
            "source": [
                "def maskNLLLoss(inp, target, mask):\r\n",
                "    nTotal = mask.sum()\r\n",
                "    crossEntropy = -torch.log(torch.gather(inp, 1, target.view(-1, 1)).squeeze(1))\r\n",
                "    loss = crossEntropy.masked_select(mask).mean()\r\n",
                "    loss = loss.to(DEVICE)\r\n",
                "    return loss, nTotal.item()"
            ],
            "metadata": {
                "language": "python",
                "azdata_cell_guid": "6c1e642e-a379-4271-838a-a101735e6822"
            },
            "outputs": [],
            "execution_count": 31
        },
        {
            "cell_type": "code",
            "source": [
                "def train(input_variable, lengths, target_variable, mask, max_target_len, encoder, decoder, embedding,\r\n",
                "          encoder_optimizer, decoder_optimizer, batch_size, clip, max_length=MAX_LENGTH):\r\n",
                "\r\n",
                "    # Zero gradients\r\n",
                "    encoder_optimizer.zero_grad()\r\n",
                "    decoder_optimizer.zero_grad()\r\n",
                "\r\n",
                "    # Set device options\r\n",
                "    input_variable = input_variable.to(DEVICE)\r\n",
                "    target_variable = target_variable.to(DEVICE)\r\n",
                "    mask = mask.to(DEVICE)\r\n",
                "    # Lengths for rnn packing should always be on the cpu\r\n",
                "    lengths = lengths.to(\"cpu\")\r\n",
                "\r\n",
                "    # Initialize variables\r\n",
                "    loss = 0\r\n",
                "    print_losses = []\r\n",
                "    n_totals = 0\r\n",
                "\r\n",
                "    # Forward pass through encoder\r\n",
                "    encoder_outputs, encoder_hidden = encoder(input_variable, lengths)\r\n",
                "\r\n",
                "    # Create initial decoder input (start with SOS tokens for each sentence)\r\n",
                "    decoder_input = torch.LongTensor([[SOS_token for _ in range(batch_size)]])\r\n",
                "    decoder_input = decoder_input.to(DEVICE)\r\n",
                "\r\n",
                "    # Set initial decoder hidden state to the encoder's final hidden state\r\n",
                "    decoder_hidden = encoder_hidden[:decoder.n_layers]\r\n",
                "\r\n",
                "    # Determine if we are using teacher forcing this iteration\r\n",
                "    use_teacher_forcing = True if random.random() < teacher_forcing_ratio else False\r\n",
                "\r\n",
                "    # print('max_target_len: ', max_target_len)\r\n",
                "\r\n",
                "    # Forward batch of sequences through decoder one time step at a time\r\n",
                "    if use_teacher_forcing:\r\n",
                "        for t in range(max_target_len):\r\n",
                "            decoder_output, decoder_hidden = decoder(\r\n",
                "                decoder_input, decoder_hidden, encoder_outputs\r\n",
                "            )\r\n",
                "            # Teacher forcing: next input is current target\r\n",
                "            decoder_input = target_variable[t].view(1, -1)\r\n",
                "            # Calculate and accumulate loss\r\n",
                "            mask_loss, nTotal = maskNLLLoss(decoder_output, target_variable[t], mask[t])\r\n",
                "            loss += mask_loss\r\n",
                "            print_losses.append(mask_loss.item() * nTotal)\r\n",
                "            n_totals += nTotal\r\n",
                "    else:\r\n",
                "        for t in range(max_target_len):\r\n",
                "            decoder_output, decoder_hidden = decoder(\r\n",
                "                decoder_input, decoder_hidden, encoder_outputs\r\n",
                "            )\r\n",
                "            # No teacher forcing: next input is decoder's own current output\r\n",
                "            _, topi = decoder_output.topk(1)\r\n",
                "            decoder_input = torch.LongTensor([[topi[i][0] for i in range(batch_size)]])\r\n",
                "            decoder_input = decoder_input.to(DEVICE)\r\n",
                "            # Calculate and accumulate loss\r\n",
                "            mask_loss, nTotal = maskNLLLoss(decoder_output, target_variable[t], mask[t])\r\n",
                "            loss += mask_loss\r\n",
                "            print_losses.append(mask_loss.item() * nTotal)\r\n",
                "            n_totals += nTotal\r\n",
                "\r\n",
                "\r\n",
                "    # Perform backpropatation\r\n",
                "    loss.backward()\r\n",
                "\r\n",
                "    # Clip gradients: gradients are modified in place\r\n",
                "    _ = nn.utils.clip_grad_norm_(encoder.parameters(), clip)\r\n",
                "    _ = nn.utils.clip_grad_norm_(decoder.parameters(), clip)\r\n",
                "\r\n",
                "    # Adjust model weights\r\n",
                "    encoder_optimizer.step()\r\n",
                "    decoder_optimizer.step()\r\n",
                "\r\n",
                "    return sum(print_losses) / n_totals"
            ],
            "metadata": {
                "language": "python",
                "azdata_cell_guid": "3a940a3a-a752-4aa8-b4b5-c88098318a7d"
            },
            "outputs": [],
            "execution_count": 32
        },
        {
            "cell_type": "code",
            "source": [
                "def trainIters(model_name, voc, pairs, encoder, decoder, encoder_optimizer, decoder_optimizer, embedding, encoder_n_layers, decoder_n_layers, save_dir, n_iteration, batch_size, print_every, save_every, clip, corpus_name):\r\n",
                "\r\n",
                "    # Load batches for each  iteration\r\n",
                "    training_batches = [batch2TrainData(voc, [random.choice(pairs) for _ in range(batch_size)])\r\n",
                "                      for _ in range(n_iteration)]\r\n",
                "\r\n",
                "    # Initializations\r\n",
                "    print('Initializing ...')\r\n",
                "    start_iteration = 1\r\n",
                "    print_loss = 0\r\n",
                "    #if loadFilename:\r\n",
                "    #    start_iteration = checkpoint['iteration'] + 1\r\n",
                "\r\n",
                "    # Training loop\r\n",
                "    print(\"Training...\")\r\n",
                "    for iteration in range(start_iteration, n_iteration + 1):\r\n",
                "        training_batch = training_batches[iteration - 1]\r\n",
                "        # Extract fields from batch\r\n",
                "        input_variable, lengths, target_variable, mask, max_target_len = training_batch\r\n",
                "\r\n",
                "        # Run a training iteration with batch\r\n",
                "        loss = train(input_variable, lengths, target_variable, mask, max_target_len, encoder,\r\n",
                "                     decoder, embedding, encoder_optimizer, decoder_optimizer, batch_size, clip)\r\n",
                "        print_loss += loss\r\n",
                "\r\n",
                "        # Print progress\r\n",
                "        if iteration % print_every == 0:\r\n",
                "            print_loss_avg = print_loss / print_every\r\n",
                "            print(\"Iteration: {}; Percent complete: {:.1f}%; Average loss: {:.4f}\".format(iteration, iteration / n_iteration * 100, print_loss_avg))\r\n",
                "            print_loss = 0\r\n",
                "\r\n",
                "        # Save checkpoint\r\n",
                "        if (iteration % save_every == 0):\r\n",
                "            directory = os.path.join(save_dir, model_name, corpus_name, '{}-{}_{}'.format(encoder_n_layers, decoder_n_layers, hidden_size))\r\n",
                "            if not os.path.exists(directory): \r\n",
                "                os.makedirs(directory)\r\n",
                "            torch.save({\r\n",
                "                'iteration': iteration,\r\n",
                "                'en': encoder.state_dict(),\r\n",
                "                'de': decoder.state_dict(),\r\n",
                "                'en_opt': encoder_optimizer.state_dict(),\r\n",
                "                'de_opt': decoder_optimizer.state_dict(),\r\n",
                "                'loss': loss,\r\n",
                "                'voc_dict': voc.__dict__,\r\n",
                "                'embedding': embedding.state_dict()\r\n",
                "            }, os.path.join(directory, '{}_{}.tar'.format(iteration, 'checkpoint')))"
            ],
            "metadata": {
                "language": "python",
                "azdata_cell_guid": "3106b6f5-17fe-4c17-8fee-08d235096c37"
            },
            "outputs": [],
            "execution_count": 33
        },
        {
            "cell_type": "code",
            "source": [
                "class GreedySearchDecoder(nn.Module):\r\n",
                "    def __init__(self, encoder, decoder):\r\n",
                "        super(GreedySearchDecoder, self).__init__()\r\n",
                "        self.encoder = encoder\r\n",
                "        self.decoder = decoder\r\n",
                "\r\n",
                "    def forward(self, input_seq, input_length, max_length):\r\n",
                "        # Forward input through encoder model\r\n",
                "        encoder_outputs, encoder_hidden = self.encoder(input_seq, input_length)\r\n",
                "        # Prepare encoder's final hidden layer to be first hidden input to the decoder\r\n",
                "        decoder_hidden = encoder_hidden[:decoder.n_layers]\r\n",
                "        # Initialize decoder input with SOS_token\r\n",
                "        decoder_input = torch.ones(1, 1, dtype=torch.long) * SOS_token\r\n",
                "        decoder_input = decoder_input.to(DEVICE)\r\n",
                "        # Initialize tensors to append decoded words to\r\n",
                "        all_tokens = torch.zeros([0], dtype=torch.long)\r\n",
                "        all_tokens = all_tokens.to(DEVICE)\r\n",
                "        all_scores = torch.zeros([0])\r\n",
                "        all_scores = all_scores.to(DEVICE)\r\n",
                "        # Iteratively decode one word token at a time\r\n",
                "        for _ in range(max_length):\r\n",
                "            # Forward pass through decoder\r\n",
                "            decoder_output, decoder_hidden = self.decoder(decoder_input, decoder_hidden, encoder_outputs)\r\n",
                "            # Obtain most likely word token and its softmax score\r\n",
                "            decoder_scores, decoder_input = torch.max(decoder_output, dim=1)\r\n",
                "            # Record token and score\r\n",
                "            all_tokens = torch.cat((all_tokens, decoder_input), dim=0)\r\n",
                "            all_scores = torch.cat((all_scores, decoder_scores), dim=0)\r\n",
                "            # Prepare current token to be next decoder input (add a dimension)\r\n",
                "            decoder_input = torch.unsqueeze(decoder_input, 0)\r\n",
                "        # Return collections of word tokens and scores\r\n",
                "        return all_tokens, all_scores"
            ],
            "metadata": {
                "language": "python",
                "azdata_cell_guid": "a14f9fdc-b2e6-4bf9-b273-5b3126d8f9e9"
            },
            "outputs": [],
            "execution_count": 35
        },
        {
            "cell_type": "code",
            "source": [
                "def evaluate(encoder, decoder, searcher, voc, sentence, max_length=MAX_LENGTH):\r\n",
                "    ### Format input sentence as a batch\r\n",
                "    # words -> indexes\r\n",
                "    indexes_batch = [indexesFromSentence(voc, sentence)]\r\n",
                "    # Create lengths tensor\r\n",
                "    lengths = torch.tensor([len(indexes) for indexes in indexes_batch])\r\n",
                "    # Transpose dimensions of batch to match models' expectations\r\n",
                "    input_batch = torch.LongTensor(indexes_batch).transpose(0, 1)\r\n",
                "    # Use appropriate device\r\n",
                "    input_batch = input_batch.to(DEVICE)\r\n",
                "    lengths = lengths.to(\"cpu\")\r\n",
                "    # Decode sentence with searcher\r\n",
                "    tokens, scores = searcher(input_batch, lengths, max_length)\r\n",
                "    # indexes -> words\r\n",
                "    decoded_words = [voc.index2word[token.item()] for token in tokens]\r\n",
                "    return decoded_words"
            ],
            "metadata": {
                "language": "python",
                "azdata_cell_guid": "efb41c41-60d8-4f6f-9a2f-87f116ae1bdf"
            },
            "outputs": [],
            "execution_count": 36
        },
        {
            "cell_type": "code",
            "source": [
                "def evaluateInput(encoder, decoder, searcher, voc):\r\n",
                "    input_sentence = ''\r\n",
                "    while(1):\r\n",
                "        try:\r\n",
                "            # Get input sentence\r\n",
                "            input_sentence = input('> ')\r\n",
                "            # Check if it is quit case\r\n",
                "            if input_sentence == 'q' or input_sentence == 'quit': break\r\n",
                "            # Normalize sentence\r\n",
                "            input_sentence = normalizeString(input_sentence)\r\n",
                "            # Evaluate sentence\r\n",
                "            output_words = evaluate(encoder, decoder, searcher, voc, input_sentence)\r\n",
                "            # Format and print response sentence\r\n",
                "            output_words[:] = [x for x in output_words if not (x == 'EOS' or x == 'PAD')]\r\n",
                "            print('Bot:', ' '.join(output_words))\r\n",
                "\r\n",
                "        except KeyError:\r\n",
                "            print(\"Error: Encountered unknown word.\")"
            ],
            "metadata": {
                "language": "python",
                "azdata_cell_guid": "01292d83-4f48-42c0-8cd7-a12330a4e890"
            },
            "outputs": [],
            "execution_count": 38
        },
        {
            "cell_type": "code",
            "source": [
                "# Configure models\r\n",
                "if with_attention:\r\n",
                "    model_name = 'cb_model_attn'\r\n",
                "    #attn_model = 'dot'\r\n",
                "    attn_model = 'general'\r\n",
                "    #attn_model = 'concat'\r\n",
                "else:\r\n",
                "    model_name = 'cb_model'\r\n",
                "    attn_model = 'None'\r\n",
                "hidden_size = 500\r\n",
                "encoder_n_layers = 2\r\n",
                "decoder_n_layers = 2\r\n",
                "dropout = 0.1\r\n",
                "batch_size = 64\r\n",
                "\r\n",
                "# Print\r\n",
                "print(f'Model will be {model_name} with attention {attn_model} and hidden size {hidden_size}')"
            ],
            "metadata": {
                "language": "python",
                "azdata_cell_guid": "04c8d686-8387-4e4a-9b91-917e861f38ba"
            },
            "outputs": [
                {
                    "name": "stdout",
                    "text": "Model will be cb_model_attn with attention general and hidden size 500\n",
                    "output_type": "stream"
                }
            ],
            "execution_count": 39
        },
        {
            "cell_type": "code",
            "source": [
                "print('Building encoder and decoder ...')\r\n",
                "# Initialize word embeddings\r\n",
                "embedding = nn.Embedding(voc.num_words, hidden_size)\r\n",
                "#if loadFilename:\r\n",
                "#    embedding.load_state_dict(embedding_sd)\r\n",
                "# Initialize encoder & decoder models\r\n",
                "encoder = EncoderRNN(hidden_size, embedding, encoder_n_layers, dropout)\r\n",
                "# With/without attention\r\n",
                "if with_attention:\r\n",
                "    decoder = LuongAttnDecoderRNN(attn_model, embedding, hidden_size, voc.num_words, decoder_n_layers, dropout)\r\n",
                "else:\r\n",
                "    decoder = DecoderRNN(embedding, hidden_size, voc.num_words, decoder_n_layers, dropout)\r\n",
                "\r\n",
                "#if loadFilename:\r\n",
                "#    encoder.load_state_dict(encoder_sd)\r\n",
                "#    decoder.load_state_dict(decoder_sd)\r\n",
                "# Use appropriate device\r\n",
                "encoder = encoder.to(DEVICE)\r\n",
                "decoder = decoder.to(DEVICE)\r\n",
                "print('Models built and ready to go!')\r\n",
                "\r\n",
                "# Configure training/optimization\r\n",
                "clip = 50.0\r\n",
                "teacher_forcing_ratio = 1.0\r\n",
                "learning_rate = 0.0001\r\n",
                "decoder_learning_ratio = 5.0\r\n",
                "n_iteration = 4000\r\n",
                "print_every = 250\r\n",
                "save_every = 1000\r\n",
                "\r\n",
                "# Ensure dropout layers are in train mode\r\n",
                "encoder.train()\r\n",
                "decoder.train()\r\n",
                "\r\n",
                "# Initialize optimizers\r\n",
                "print('Building optimizers ...')\r\n",
                "encoder_optimizer = optim.Adam(encoder.parameters(), lr=learning_rate)\r\n",
                "decoder_optimizer = optim.Adam(decoder.parameters(), lr=learning_rate * decoder_learning_ratio)\r\n",
                "\r\n",
                "#if loadFilename:\r\n",
                "#    encoder_optimizer.load_state_dict(encoder_optimizer_sd)\r\n",
                "#    decoder_optimizer.load_state_dict(decoder_optimizer_sd)\r\n",
                "\r\n",
                "# If you have cuda, configure cuda to call\r\n",
                "for state in encoder_optimizer.state.values():\r\n",
                "    for k, v in state.items():\r\n",
                "        if isinstance(v, torch.Tensor):\r\n",
                "            state[k] = v.cuda()\r\n",
                "\r\n",
                "for state in decoder_optimizer.state.values():\r\n",
                "    for k, v in state.items():\r\n",
                "        if isinstance(v, torch.Tensor):\r\n",
                "            state[k] = v.cuda()"
            ],
            "metadata": {
                "language": "python",
                "azdata_cell_guid": "f4aee1bf-3c7c-466f-a10d-57ffc6fc8674"
            },
            "outputs": [
                {
                    "name": "stdout",
                    "text": "Building encoder and decoder ...\n",
                    "output_type": "stream"
                },
                {
                    "name": "stdout",
                    "text": "Models built and ready to go!\nBuilding optimizers ...\n",
                    "output_type": "stream"
                }
            ],
            "execution_count": 40
        },
        {
            "cell_type": "code",
            "source": [
                "# Run training iterations\r\n",
                "print(f\"Starting Training {model_name} for attention method {attn_model}!\")\r\n",
                "trainIters(model_name, voc, pairs, encoder, decoder, encoder_optimizer, decoder_optimizer,\r\n",
                "           embedding, encoder_n_layers, decoder_n_layers, model_save_dir, n_iteration, batch_size,\r\n",
                "           print_every, save_every, clip, corpus_name)"
            ],
            "metadata": {
                "azdata_cell_guid": "a96689f3-1be0-4d6d-ba14-597de274ab45",
                "language": "python",
                "tags": []
            },
            "outputs": [
                {
                    "name": "stdout",
                    "text": "Starting Training cb_model_attn for attention method general!\n",
                    "output_type": "stream"
                },
                {
                    "name": "stdout",
                    "text": "Initializing ...\nTraining...\n",
                    "output_type": "stream"
                },
                {
                    "name": "stdout",
                    "text": "Iteration: 250; Percent complete: 6.2%; Average loss: 6.5348\n",
                    "output_type": "stream"
                },
                {
                    "name": "stdout",
                    "text": "Iteration: 500; Percent complete: 12.5%; Average loss: 5.9308\n",
                    "output_type": "stream"
                },
                {
                    "name": "stdout",
                    "text": "Iteration: 750; Percent complete: 18.8%; Average loss: 5.6548\n",
                    "output_type": "stream"
                },
                {
                    "name": "stdout",
                    "text": "Iteration: 1000; Percent complete: 25.0%; Average loss: 5.5109\n",
                    "output_type": "stream"
                },
                {
                    "name": "stdout",
                    "text": "Iteration: 1250; Percent complete: 31.2%; Average loss: 5.3727\n",
                    "output_type": "stream"
                },
                {
                    "name": "stdout",
                    "text": "Iteration: 1500; Percent complete: 37.5%; Average loss: 5.2546\n",
                    "output_type": "stream"
                },
                {
                    "name": "stdout",
                    "text": "Iteration: 1750; Percent complete: 43.8%; Average loss: 5.1722\n",
                    "output_type": "stream"
                },
                {
                    "name": "stdout",
                    "text": "Iteration: 2000; Percent complete: 50.0%; Average loss: 5.0899\n",
                    "output_type": "stream"
                },
                {
                    "name": "stdout",
                    "text": "Iteration: 2250; Percent complete: 56.2%; Average loss: 5.0177\n",
                    "output_type": "stream"
                },
                {
                    "name": "stdout",
                    "text": "Iteration: 2500; Percent complete: 62.5%; Average loss: 4.9515\n",
                    "output_type": "stream"
                },
                {
                    "name": "stdout",
                    "text": "Iteration: 2750; Percent complete: 68.8%; Average loss: 4.8702\n",
                    "output_type": "stream"
                },
                {
                    "name": "stdout",
                    "text": "Iteration: 3000; Percent complete: 75.0%; Average loss: 4.8169\n",
                    "output_type": "stream"
                },
                {
                    "name": "stdout",
                    "text": "Iteration: 3250; Percent complete: 81.2%; Average loss: 4.7789\n",
                    "output_type": "stream"
                },
                {
                    "name": "stdout",
                    "text": "Iteration: 3500; Percent complete: 87.5%; Average loss: 4.7092\n",
                    "output_type": "stream"
                },
                {
                    "name": "stdout",
                    "text": "Iteration: 3750; Percent complete: 93.8%; Average loss: 4.6394\n",
                    "output_type": "stream"
                },
                {
                    "name": "stdout",
                    "text": "Iteration: 4000; Percent complete: 100.0%; Average loss: 4.5909\n",
                    "output_type": "stream"
                }
            ],
            "execution_count": 41
        },
        {
            "cell_type": "code",
            "source": [
                "# Set checkpoint to load from; set to None if starting from scratch\r\n",
                "loadFilename = True\r\n",
                "checkpoint_iter = 4000\r\n",
                "loadFilename = os.path.join(model_save_dir, model_name, corpus_name,\r\n",
                "                            '{}-{}_{}'.format(encoder_n_layers, decoder_n_layers, hidden_size),\r\n",
                "                            '{}_checkpoint.tar'.format(checkpoint_iter))\r\n",
                "\r\n",
                "# Load model if a loadFilename is provided\r\n",
                "if loadFilename:\r\n",
                "    # If loading on same machine the model was trained on\r\n",
                "    checkpoint = torch.load(loadFilename)\r\n",
                "    # If loading a model trained on GPU to CPU\r\n",
                "    #checkpoint = torch.load(loadFilename, map_location=torch.device('cpu'))\r\n",
                "    encoder_sd = checkpoint['en']\r\n",
                "    decoder_sd = checkpoint['de']\r\n",
                "    encoder_optimizer_sd = checkpoint['en_opt']\r\n",
                "    decoder_optimizer_sd = checkpoint['de_opt']\r\n",
                "    embedding_sd = checkpoint['embedding']\r\n",
                "    voc.__dict__ = checkpoint['voc_dict']\r\n",
                "\r\n",
                "if loadFilename:\r\n",
                "    embedding.load_state_dict(embedding_sd)\r\n",
                "\r\n",
                "if loadFilename:\r\n",
                "    encoder.load_state_dict(encoder_sd)\r\n",
                "    decoder.load_state_dict(decoder_sd)"
            ],
            "metadata": {
                "language": "python",
                "azdata_cell_guid": "99cb0b06-42f8-4bc3-b143-7f15d3d10a66"
            },
            "outputs": [
                {
                    "output_type": "stream",
                    "name": "stderr",
                    "text": "<ipython-input-89-e66861ecb241>:11: FutureWarning: You are using `torch.load` with `weights_only=False` (the current default value), which uses the default pickle module implicitly. It is possible to construct malicious pickle data which will execute arbitrary code during unpickling (See https://github.com/pytorch/pytorch/blob/main/SECURITY.md#untrusted-models for more details). In a future release, the default value for `weights_only` will be flipped to `True`. This limits the functions that could be executed during unpickling. Arbitrary objects will no longer be allowed to be loaded via this mode unless they are explicitly allowlisted by the user via `torch.serialization.add_safe_globals`. We recommend you start setting `weights_only=True` for any use case where you don't have full control of the loaded file. Please open an issue on GitHub for any issues related to this experimental feature.\n  checkpoint = torch.load(loadFilename)\n"
                }
            ],
            "execution_count": 89
        },
        {
            "cell_type": "code",
            "source": [
                "# Set dropout layers to eval mode\r\n",
                "encoder.eval()\r\n",
                "decoder.eval()\r\n",
                "\r\n",
                "# Initialize search module\r\n",
                "searcher = GreedySearchDecoder(encoder, decoder)\r\n",
                "\r\n",
                "# Begin chatting (uncomment and run the following line to begin)\r\n",
                "evaluateInput(encoder, decoder, searcher, voc)"
            ],
            "metadata": {
                "language": "python",
                "azdata_cell_guid": "9c77ad43-70e0-49b2-a73a-1a85816397ca"
            },
            "outputs": [
                {
                    "output_type": "stream",
                    "name": "stdout",
                    "text": "Bot:          \n"
                },
                {
                    "output_type": "stream",
                    "name": "stdout",
                    "text": "Bot: can anyone help me with ubuntu\n"
                },
                {
                    "output_type": "stream",
                    "name": "stdout",
                    "text": "Bot: sudo apt-get install kubuntu-desktop\n"
                }
            ],
            "execution_count": null
        }
    ]
}