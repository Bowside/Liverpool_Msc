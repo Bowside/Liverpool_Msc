{
    "metadata": {
        "kernelspec": {
            "name": "python3",
            "display_name": "Python 3 (ipykernel)",
            "language": "python"
        },
        "language_info": {
            "name": "python",
            "version": "3.9.0",
            "mimetype": "text/x-python",
            "codemirror_mode": {
                "name": "ipython",
                "version": 3
            },
            "pygments_lexer": "ipython3",
            "nbconvert_exporter": "python",
            "file_extension": ".py"
        }
    },
    "nbformat_minor": 2,
    "nbformat": 4,
    "cells": [
        {
            "cell_type": "code",
            "source": [
                "# Number of vertices\n",
                "nV = 4\n",
                "INF = float('INF')\n",
                "# Algorithm\n",
                "def floyd(G):\n",
                "   dist = list(map(lambda p: list(map(lambda q: q, p)), G))\n",
                "   # Adding vertices individually\n",
                "   for r in range(nV):\n",
                "      for p in range(nV):\n",
                "         for q in range(nV):\n",
                "            dist[p][q] = min(dist[p][q], dist[p][r] + dist[r][q])\n",
                "   sol(dist)\n",
                "# Printing the output\n",
                "def sol(dist):\n",
                "   for p in range(nV):\n",
                "      for q in range(nV):\n",
                "         if(dist[p][q] == INF):\n",
                "            print(\"INF\", end=\" ,\")\n",
                "         else:\n",
                "            print(dist[p][q], end=\" ,\")\n",
                "      print(\" \")\n",
                "G =  [[0, 1, INF, 1],\n",
                "          [1, 0, 1, INF],\n",
                "          [INF, 1, 0, -2],\n",
                "          [1, INF, -2, 0]]\n",
                "floyd(G)"
            ],
            "metadata": {
                "azdata_cell_guid": "755bc9db-5ad2-46b9-9576-42f5775636d0",
                "language": "python"
            },
            "outputs": [
                {
                    "output_type": "stream",
                    "name": "stdout",
                    "text": "0 ,-1 ,-2 ,-4 , \n-1 ,-2 ,-3 ,-5 , \n-2 ,-3 ,-4 ,-6 , \n-4 ,-5 ,-6 ,-8 , \n"
                }
            ],
            "execution_count": 12
        },
        {
            "cell_type": "code",
            "source": [
                "# Number of vertices\r\n",
                "nV = 3\r\n",
                "INF = 999\r\n",
                "\r\n",
                "# Algorithm\r\n",
                "def floyd(G):\r\n",
                "   dist = list(map(lambda p: list(map(lambda q: q, p)), G))\r\n",
                "\r\n",
                "   # Adding vertices individually\r\n",
                "   for r in range(nV):\r\n",
                "      for p in range(nV):\r\n",
                "         for q in range(nV):\r\n",
                "            dist[p][q] = min(dist[p][q], dist[p][r] + dist[r][q])\r\n",
                "   sol(dist)\r\n",
                "\r\n",
                "# Printing the output\r\n",
                "def sol(dist):\r\n",
                "   for p in range(nV):\r\n",
                "      for q in range(nV):\r\n",
                "         if(dist[p][q] == INF):\r\n",
                "            print(\"INF\", end=\" \")\r\n",
                "         else:\r\n",
                "            print(dist[p][q], end=\" \")\r\n",
                "      print(\" \")\r\n",
                "\r\n",
                "G = [[0, 1, INF],\r\n",
                "   [1, 0, 3],\r\n",
                "   [INF, 3, 0]]\r\n",
                "floyd(G)"
            ],
            "metadata": {
                "azdata_cell_guid": "2b9e26ba-36db-4054-abc5-c531878c5188",
                "language": "python"
            },
            "outputs": [
                {
                    "output_type": "stream",
                    "name": "stdout",
                    "text": "0 1 4  \n1 0 3  \n4 3 0  \n"
                }
            ],
            "execution_count": 15
        },
        {
            "cell_type": "code",
            "source": [
                "# Number of vertices\r\n",
                "nV = 4\r\n",
                "INF = float ('INF')\r\n",
                "\r\n",
                "# Algorithm\r\n",
                "def floyd(G):\r\n",
                "   dist = list(map(lambda p: list(map(lambda q: q, p)), G))\r\n",
                "\r\n",
                "   # Adding vertices individually\r\n",
                "   for r in range(nV):\r\n",
                "      for i in range(nV):\r\n",
                "         for j in range(nV):\r\n",
                "            dist[i][j] = min(dist[i][j], dist[i][r] + dist[r][j])\r\n",
                "   sol(dist)\r\n",
                "\r\n",
                "# Printing the output\r\n",
                "def sol(dist):\r\n",
                "   for p in range(nV):\r\n",
                "      for q in range(nV):\r\n",
                "         if(dist[p][q] == INF):\r\n",
                "            print(\"INF\", end=\" \")\r\n",
                "         else:\r\n",
                "            print(dist[p][q], end=\" \")\r\n",
                "      print(\" \")\r\n",
                "\r\n",
                "G = [[INF, 2, 5, INF], \r\n",
                "[INF, INF, 1, 6], \r\n",
                "[INF, INF, INF, 3], \r\n",
                "[4, INF, INF, INF]]\r\n",
                "floyd(G)"
            ],
            "metadata": {
                "language": "python",
                "azdata_cell_guid": "9cc80fc7-0efb-4bab-9812-343c938996c3",
                "tags": [
                    "hide_input"
                ]
            },
            "outputs": [
                {
                    "output_type": "stream",
                    "name": "stdout",
                    "text": "-8 -6 -5 -12  \n-10 -8 -7 -14  \n-1 1 2 -5  \n-12 -10 -9 -16  \n"
                }
            ],
            "execution_count": 8
        },
        {
            "cell_type": "code",
            "source": [
                "INF = float ('inf')\r\n",
                "nV = 4\r\n",
                "\r\n",
                "\r\n",
                "def floyd_warshall_recursive(graph):\r\n",
                "    def helper(i, j, k):\r\n",
                "        if k == -1:\r\n",
                "            return graph[i][j]\r\n",
                "        else:\r\n",
                "            return min(helper(i, j, k-1), helper(i, k, k-1) + helper(k, j, k-1))\r\n",
                "\r\n",
                "    dist = graph\r\n",
                "\r\n",
                "    for k in range(nV): # ticker thing\r\n",
                "        for i in range(nV): # starting vector\r\n",
                "            for j in range(nV): # enfding vector\r\n",
                "                dist[i][j] = helper(i, j, k)\r\n",
                "\r\n",
                "    return dist\r\n",
                "\r\n",
                "G = [[INF, 2, 5, INF], \r\n",
                "[INF, INF, 1, 6], \r\n",
                "[INF, INF, INF, 3], \r\n",
                "[4, INF, INF, INF]]\r\n",
                "floyd_warshall_recursive(G)"
            ],
            "metadata": {
                "language": "python",
                "azdata_cell_guid": "f70d4870-cba0-437f-8a5f-11e66dab6e62"
            },
            "outputs": [
                {
                    "output_type": "execute_result",
                    "execution_count": 5,
                    "data": {
                        "text/plain": "[[10, 2, 3, 6], [8, 10, 1, 4], [7, 9, 10, 3], [4, 6, 7, 10]]"
                    },
                    "metadata": {}
                }
            ],
            "execution_count": 5
        }
    ]
}