{
    "metadata": {
        "kernelspec": {
            "name": "python3",
            "display_name": "Python 3",
            "language": "python"
        },
        "language_info": {
            "name": "python",
            "version": "3.11.9",
            "mimetype": "text/x-python",
            "codemirror_mode": {
                "name": "ipython",
                "version": 3
            },
            "pygments_lexer": "ipython3",
            "nbconvert_exporter": "python",
            "file_extension": ".py"
        }
    },
    "nbformat_minor": 2,
    "nbformat": 4,
    "cells": [
        {
            "cell_type": "markdown",
            "source": [
                "# Load the Data"
            ],
            "metadata": {
                "language": "python",
                "azdata_cell_guid": "4849aa9a-f349-42dd-a716-7555ea57762e"
            },
            "attachments": {}
        },
        {
            "cell_type": "code",
            "source": [
                "import pandas\r\n",
                "import numpy as np\r\n",
                "from sklearn.linear_model import LinearRegression, LogisticRegression\r\n",
                "from sklearn.metrics import confusion_matrix, classification_report\r\n",
                "from sklearn.model_selection import train_test_split\r\n",
                "from sklearn.metrics import mean_squared_error\r\n",
                "\r\n",
                "creditdata_df = pandas.read_csv('creditdataset.csv')\r\n",
                "\r\n",
                "print(\"Size of dataset:\", creditdata_df.shape)\r\n",
                "creditdata_df.head()\r\n",
                ""
            ],
            "metadata": {
                "azdata_cell_guid": "b3ba906f-ad64-40fd-ba37-fd19bec912d1",
                "language": "python"
            },
            "outputs": [
                {
                    "name": "stdout",
                    "text": "Size of dataset: (690, 14)\n",
                    "output_type": "stream"
                },
                {
                    "data": {
                        "text/plain": "   a_or_b  Col_2  Col_3  p_g_or_gg  ff_d_i_k_j_aa_m_c_w_e_q_r_cc_or_x   \\\n0       1  22.08  11.46          2                                   4   \n1       0  22.67   7.00          2                                   8   \n2       0  29.58   1.75          1                                   4   \n3       0  21.67  11.50          1                                   5   \n4       1  20.17   8.17          2                                   6   \n\n   ff_dd_j_bb_v_n_o_h_or_z  Col_7  t_or_f  Col_11  qt_or_rs  s_g_or_p  Col_12  \\\n0                        4  1.585       0       0         1         2     100   \n1                        4  0.165       0       0         0         2     160   \n2                        4  1.250       0       0         1         2     280   \n3                        3  0.000       1      11         1         2       0   \n4                        4  1.960       1      14         0         2      60   \n\n   Col_13  Target   \n0    1213        0  \n1       1        0  \n2       1        0  \n3       1        1  \n4     159        1  ",
                        "text/html": "<div>\n<style scoped>\n    .dataframe tbody tr th:only-of-type {\n        vertical-align: middle;\n    }\n\n    .dataframe tbody tr th {\n        vertical-align: top;\n    }\n\n    .dataframe thead th {\n        text-align: right;\n    }\n</style>\n<table border=\"1\" class=\"dataframe\">\n  <thead>\n    <tr style=\"text-align: right;\">\n      <th></th>\n      <th>a_or_b</th>\n      <th>Col_2</th>\n      <th>Col_3</th>\n      <th>p_g_or_gg</th>\n      <th>ff_d_i_k_j_aa_m_c_w_e_q_r_cc_or_x</th>\n      <th>ff_dd_j_bb_v_n_o_h_or_z</th>\n      <th>Col_7</th>\n      <th>t_or_f</th>\n      <th>Col_11</th>\n      <th>qt_or_rs</th>\n      <th>s_g_or_p</th>\n      <th>Col_12</th>\n      <th>Col_13</th>\n      <th>Target</th>\n    </tr>\n  </thead>\n  <tbody>\n    <tr>\n      <th>0</th>\n      <td>1</td>\n      <td>22.08</td>\n      <td>11.46</td>\n      <td>2</td>\n      <td>4</td>\n      <td>4</td>\n      <td>1.585</td>\n      <td>0</td>\n      <td>0</td>\n      <td>1</td>\n      <td>2</td>\n      <td>100</td>\n      <td>1213</td>\n      <td>0</td>\n    </tr>\n    <tr>\n      <th>1</th>\n      <td>0</td>\n      <td>22.67</td>\n      <td>7.00</td>\n      <td>2</td>\n      <td>8</td>\n      <td>4</td>\n      <td>0.165</td>\n      <td>0</td>\n      <td>0</td>\n      <td>0</td>\n      <td>2</td>\n      <td>160</td>\n      <td>1</td>\n      <td>0</td>\n    </tr>\n    <tr>\n      <th>2</th>\n      <td>0</td>\n      <td>29.58</td>\n      <td>1.75</td>\n      <td>1</td>\n      <td>4</td>\n      <td>4</td>\n      <td>1.250</td>\n      <td>0</td>\n      <td>0</td>\n      <td>1</td>\n      <td>2</td>\n      <td>280</td>\n      <td>1</td>\n      <td>0</td>\n    </tr>\n    <tr>\n      <th>3</th>\n      <td>0</td>\n      <td>21.67</td>\n      <td>11.50</td>\n      <td>1</td>\n      <td>5</td>\n      <td>3</td>\n      <td>0.000</td>\n      <td>1</td>\n      <td>11</td>\n      <td>1</td>\n      <td>2</td>\n      <td>0</td>\n      <td>1</td>\n      <td>1</td>\n    </tr>\n    <tr>\n      <th>4</th>\n      <td>1</td>\n      <td>20.17</td>\n      <td>8.17</td>\n      <td>2</td>\n      <td>6</td>\n      <td>4</td>\n      <td>1.960</td>\n      <td>1</td>\n      <td>14</td>\n      <td>0</td>\n      <td>2</td>\n      <td>60</td>\n      <td>159</td>\n      <td>1</td>\n    </tr>\n  </tbody>\n</table>\n</div>"
                    },
                    "metadata": {},
                    "execution_count": 2,
                    "output_type": "execute_result"
                }
            ],
            "execution_count": 2
        },
        {
            "cell_type": "markdown",
            "source": [
                "# Linear Regression Model"
            ],
            "metadata": {
                "azdata_cell_guid": "d6ebcf40-90be-45fb-aadd-2a6c9bff1658"
            },
            "attachments": {}
        },
        {
            "cell_type": "code",
            "source": [
                "# create a linear regression model from creditdata_df\r\n",
                "X = creditdata_df.iloc[:, :12]\r\n",
                "y = creditdata_df.iloc[:,-1:]\r\n",
                "\r\n",
                "\r\n",
                "X_train, X_test, y_train, y_test = train_test_split(X, y, test_size=0.3, random_state=42)\r\n",
                "\r\n",
                "linreg = LinearRegression()\r\n",
                "linreg.fit(X_train, y_train)\r\n",
                "\r\n",
                "y_pred = linreg.predict(X_test)\r\n",
                "\r\n",
                "mse = mean_squared_error(y_test, y_pred)\r\n",
                "print('Mean Squared Error:', mse)\r\n",
                "print('Model Coefficients:', linreg.coef_)\r\n",
                "print('Model Intercept:', linreg.intercept_)\r\n",
                "print('Model Score:', linreg.score(X_test, y_test))\r\n",
                ""
            ],
            "metadata": {
                "azdata_cell_guid": "05bda7b5-28d0-4f27-91c5-fa726103fe07",
                "language": "python"
            },
            "outputs": [
                {
                    "name": "stdout",
                    "text": "Mean Squared Error: 0.11648918406372587\nModel Coefficients: [[-4.24290630e-03 -9.51570441e-04  2.78428948e-04  1.18311752e-01\n   2.48463019e-02 -6.49547070e-03  1.99255543e-03  5.92972470e-01\n   1.82910641e-02 -2.18874993e-02  5.73179602e-02 -2.04227706e-04]]\nModel Intercept: [-0.30400948]\nModel Score: 0.5109303303991191\n",
                    "output_type": "stream"
                }
            ],
            "execution_count": 6
        },
        {
            "cell_type": "markdown",
            "source": [
                "# Logistic Regression Model"
            ],
            "metadata": {
                "language": "python",
                "azdata_cell_guid": "41cb8c85-874d-44c4-bdc3-c5f91c8064b9"
            },
            "attachments": {}
        },
        {
            "cell_type": "code",
            "source": [
                "# create a logistic regression model from creditdata_df\r\n",
                "logreg = LogisticRegression(max_iter=1000)\r\n",
                "logreg.fit(X_train, y_train.values.ravel())\r\n",
                "\r\n",
                "y_pred = logreg.predict(X_test)\r\n",
                "\r\n",
                "print(confusion_matrix(y_test, y_pred))\r\n",
                "print(classification_report(y_test, y_pred))\r\n",
                "\r\n",
                "mse = mean_squared_error(y_test, y_pred)\r\n",
                "print('Mean Squared Error:', mse)\r\n",
                "print('Model Coefficients:', logreg.coef_)\r\n",
                "print('Model Intercept:', logreg.intercept_)\r\n",
                "print('Model Score:', logreg.score(X_test, y_test))\r\n",
                ""
            ],
            "metadata": {
                "azdata_cell_guid": "ae592a76-da58-4952-b03b-0e015a9bd928",
                "language": "python",
                "tags": []
            },
            "outputs": [
                {
                    "name": "stdout",
                    "text": "[[111  15]\n [ 13  68]]\n              precision    recall  f1-score   support\n\n           0       0.90      0.88      0.89       126\n           1       0.82      0.84      0.83        81\n\n    accuracy                           0.86       207\n   macro avg       0.86      0.86      0.86       207\nweighted avg       0.87      0.86      0.87       207\n\nMean Squared Error: 0.13526570048309178\nModel Coefficients: [[ 4.44113973e-02 -9.74745497e-03 -3.07807200e-04  9.30237284e-01\n   2.30717401e-01 -1.71319698e-02  3.92928041e-02  3.09067926e+00\n   2.33759541e-01 -2.71204672e-01  3.07389302e-01 -1.67243619e-03]]\nModel Intercept: [-5.77192561]\nModel Score: 0.8647342995169082\n",
                    "output_type": "stream"
                }
            ],
            "execution_count": 9
        }
    ]
}